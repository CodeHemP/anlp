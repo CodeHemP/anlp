{
 "cells": [
  {
   "cell_type": "code",
   "execution_count": 1,
   "metadata": {},
   "outputs": [],
   "source": [
    "#Import libraries\n",
    "import math\n",
    "import numpy as np\n",
    "import nltk\n",
    "from nltk.corpus import brown\n",
    "from nltk.util import pad_sequence\n",
    "import pandas as pd\n",
    "import matplotlib.pyplot as plt\n",
    "from matplotlib.pyplot import figure"
   ]
  },
  {
   "cell_type": "code",
   "execution_count": 2,
   "metadata": {},
   "outputs": [
    {
     "name": "stdout",
     "output_type": "stream",
     "text": [
      "Number of categories in brown corpus:  15\n",
      "Total number of words:  1161192\n",
      "Total number of English words:  981716\n",
      "Number of sentences in brown corpus:  57340\n",
      "Total number of unique English words:  40234\n"
     ]
    }
   ],
   "source": [
    "#Names of categories in the brown corpus\n",
    "listCat = list(brown.categories()) #Categories\n",
    "print(\"Number of categories in brown corpus: \", len(listCat))\n",
    "\n",
    "words = nltk.corpus.brown.words()\n",
    "print(\"Total number of words: \", len(words)) # 1161192 words (> 1 million)\n",
    "\n",
    "alpha = [word.lower() for word in words if word.isalpha()] \n",
    "print(\"Total number of English words: \", len(alpha)) # 981716 English words\n",
    "\n",
    "sents = list(nltk.corpus.brown.sents()) \n",
    "print(\"Number of sentences in brown corpus: \", len(sents)) #57340 sentences\n",
    "\n",
    "print(\"Total number of unique English words: \", len(set(alpha))) # 40234 vocabulary words"
   ]
  },
  {
   "cell_type": "code",
   "execution_count": 3,
   "metadata": {},
   "outputs": [
    {
     "name": "stdout",
     "output_type": "stream",
     "text": [
      "Number of unigram:  56057\n",
      "Probability of word Fulton is:  1.4640128419761762e-05\n"
     ]
    }
   ],
   "source": [
    "#Unigram frequency and probabilities\n",
    "freq_brown_1gram = nltk.FreqDist(brown.words()) #56057 word samples including punctuation marks\n",
    "len_brown = len(brown.words())\n",
    "\n",
    "def unigram_prob(word):\n",
    "    return freq_brown_1gram[ word] / len_brown\n",
    "\n",
    "print(\"Number of unigram: \", len(list(freq_brown_1gram)))\n",
    "print(\"Probability of word Fulton is: \",unigram_prob(\"Fulton\")) #1.4640128419761762e-05"
   ]
  },
  {
   "cell_type": "code",
   "execution_count": 4,
   "metadata": {},
   "outputs": [
    {
     "name": "stdout",
     "output_type": "stream",
     "text": [
      "Number of bigrams:  56057\n",
      "Number of words that can follow United is:  <FreqDist with 16 samples and 463 outcomes>\n",
      "Probability of bigram United States is:  0.8466522678185745\n"
     ]
    }
   ],
   "source": [
    "#Bigram frequency and probabilities using MLE\n",
    "cfreq2gram = nltk.ConditionalFreqDist(nltk.bigrams(brown.words()))\n",
    "cprob2gram = nltk.ConditionalProbDist(cfreq2gram, nltk.MLEProbDist)\n",
    "\n",
    "print(\"Number of bigrams: \", len(list(cfreq2gram))) #56057\n",
    "print(\"Number of words that can follow United is: \", cfreq2gram[\"United\"]) #<FreqDist with 16 samples and 463 outcomes>\n",
    "print(\"Probability of bigram United States is: \", cprob2gram[\"United\"].prob(\"States\")) # 0.8466522678185745"
   ]
  },
  {
   "cell_type": "code",
   "execution_count": 5,
   "metadata": {},
   "outputs": [
    {
     "name": "stdout",
     "output_type": "stream",
     "text": [
      "Number of trigrams:  455266\n",
      "Number of words that can follow United States is:  <FreqDist with 132 samples and 392 outcomes>\n",
      "Probability of trigram United States of is:  0.08163265306122448\n"
     ]
    }
   ],
   "source": [
    "#Trigram frequency and probabilities using MLE\n",
    "brown3gram = nltk.trigrams(brown.words())\n",
    "condition_pairs = (((w0, w1), w2) for w0, w1, w2 in brown3gram)\n",
    "cfreq3gram = nltk.ConditionalFreqDist(condition_pairs)\n",
    "cprob3gram= nltk.ConditionalProbDist(cfreq3gram, nltk.MLEProbDist)\n",
    "\n",
    "print(\"Number of trigrams: \", len(list(cfreq3gram))) #455266\n",
    "print(\"Number of words that can follow United States is: \", cfreq3gram[\"United\",\"States\"])\n",
    "#<FreqDist with 132 samples and 392 outcomes>\n",
    "print(\"Probability of trigram United States of is: \", cprob3gram[\"United\", \"States\"].prob(\"of\")) #0.08163265306122448"
   ]
  },
  {
   "cell_type": "code",
   "execution_count": 6,
   "metadata": {},
   "outputs": [
    {
     "name": "stdout",
     "output_type": "stream",
     "text": [
      "Number of quadgrams:  907493\n",
      "Number of words that can follow of the United States of is:  <FreqDist with 3 samples and 32 outcomes>\n",
      "Probability of quadgram United States of America is:  0.90625\n"
     ]
    }
   ],
   "source": [
    "#Quadgram frequency and probabilities using MLE\n",
    "brown4gram = nltk.ngrams(brown.words(),4)\n",
    "condition_pairs = (((w0, w1,w2), w3) for w0, w1, w2,w3 in brown4gram)\n",
    "cfreq4gram = nltk.ConditionalFreqDist(condition_pairs)\n",
    "cprob4gram= nltk.ConditionalProbDist(cfreq4gram, nltk.MLEProbDist)\n",
    "\n",
    "print(\"Number of quadgrams: \", len(list(cfreq4gram))) #907493\n",
    "print(\"Number of words that can follow of the United States of is: \", cfreq4gram[\"United\",\"States\",\"of\"])\n",
    "#<FreqDist with 3 samples and 32 outcomes>\n",
    "print(\"Probability of quadgram United States of America is: \", cprob4gram[\"United\", \"States\", \"of\"].prob(\"America\")) #0.90625"
   ]
  },
  {
   "cell_type": "code",
   "execution_count": 7,
   "metadata": {},
   "outputs": [],
   "source": [
    "#Function to calculate conditional probability and perplexity of test set - Bigram Language Model\n",
    "\n",
    "# P(how do you do) = P(how) * P(do|how) * P(you|do) * P(do | you)\n",
    "# Entropy = -[P(how) * log2P(how) +  P(do|how) * log2P(do|how) + P(you|do) *log2P(you|do)  + P(do | you)*log2P(do | you)]\n",
    "# Perplexity = 2 ** Entropy\n",
    "\n",
    "def bgmPerp(List):\n",
    "    words = List[0].split()\n",
    "    #print(words)\n",
    "   \n",
    "    prodPr = unigram_prob(words[0]) #Calculate probability of Unigram\n",
    "    #print(\"Unigram\", words[0], \"Probability: \", prodPr)\n",
    "    if prodPr > 0:\n",
    "        lpU = math.log(prodPr,2)\n",
    "    else:\n",
    "        lpU = 0\n",
    "    \n",
    "    #lpU = math.log(prU,2) \n",
    "    entBgm = prodPr * lpU\n",
    "    #print(\"Entropy of unigram without negative sign: \",entBgm)\n",
    "\n",
    "    N = len(words)\n",
    "\n",
    "    for i in range(1,N):\n",
    "        prB = cprob2gram[words[i-1]].prob(words[i]) #Calculate probability of Bigram\n",
    "        prodPr = prodPr*prB # Cumulative multiply probabilities to get conditional probability of test set\n",
    "        #print(\"MLE of Bigram\", words[i-1], words[i], \": \", prB)\n",
    "        if prB > 0:\n",
    "            lpB = math.log(prB,2)\n",
    "        else:\n",
    "            lpB = 0\n",
    "        ent = prB * lpB #Entropy of specific bigram\n",
    "        entBgm = entBgm + ent #Cumulative summation to obtain entropy of test set \n",
    "\n",
    "    print(\"Probability of test sentence using Bigram Model: \", prodPr )\n",
    "    print(\"Model Perplexity Bigram: \",2** (-(entBgm))) \n",
    "    perpBgm = 2** (-(entBgm)) #Calculate perplexity\n",
    "    #print(\"MLE of the sentence: \", prodPr)\n",
    "    #print(\"Perplexity of the model: \", Perp)\n",
    "    probPerpBgm = [prodPr, perpBgm] #Return conditional probability and perplexity of test set\n",
    "    \n",
    "    return probPerpBgm"
   ]
  },
  {
   "cell_type": "code",
   "execution_count": 8,
   "metadata": {},
   "outputs": [],
   "source": [
    "#Function to calculate conditional probability and perplexity of test set - Trigram Language Model\n",
    "\n",
    "# P(how do you do) = P(how) * P(do|how) * P(you| how do) * P(do | do you)\n",
    "\n",
    "# Entropy = -[P(how) * log2P(how) +  P(do|how) * log2P(do|how) \n",
    "#             + P(you| how do) *log2P(you| how do) + P(do|do you)*log2P(do | do you)]\n",
    "\n",
    "# Perplexity = 2 ** Entropy\n",
    "\n",
    "def tgmPerp(List):\n",
    "    words = List[0].split()\n",
    "    #print(words)\n",
    "   \n",
    "    probU = unigram_prob(words[0]) #Calculate probability of Unigram\n",
    "    #print(\"Unigram\", words[0], \"Probability: \", probU)\n",
    "    lpU = math.log(probU,2)\n",
    "    \n",
    "    entTgm = probU * lpU\n",
    "    #print(\"Entropy of unigram without negative sign after Unigram: \",entTgm)\n",
    "    \n",
    "    probB = cprob2gram[words[0]].prob(words[1]) #Calculate probability of Bigram\n",
    "    probTgm = probB * probU # multiplication of Unigram and Bigram probability\n",
    "    lpB = math.log(probB,2)\n",
    "    \n",
    "    entTgm = entTgm + probB * lpB\n",
    "    #print(\"Entropy of unigram and bigram without negative sign after Bigram: \",entTgm)\n",
    "\n",
    "    N = len(words)\n",
    "\n",
    "    for i in range(2,N):\n",
    "        probT = cprob3gram[words[i-2],words[i-1]].prob(words[i])  #Calculate probability of Trigram\n",
    "        probTgm = probTgm * probT # Cumulative multiply probabilities to get conditional probability of test set\n",
    "        #print(\"MLE of Bigram\", words[i-1], words[i], \": \", prB)\n",
    "        lpT = math.log(probT,2)\n",
    "        prodTgm = probT * lpT\n",
    "        entTgm = entTgm + prodTgm #Cumulative summation to obtain entropy of test set \n",
    "\n",
    "    PerpTgm = 2** (-(entTgm))\n",
    "    print(\"Probability of test sentence using Trigram Model: \", probTgm )\n",
    "    print(\"Model Perplexity Trigram: \",2** (-(entTgm)))\n",
    "    #print(\"MLE of the sentence: \", sumPr)\n",
    "    #print(\"Perplexity of the model: \", Perp)\n",
    "    probPerpTgm = [probTgm, PerpTgm]\n",
    "    \n",
    "    return probPerpTgm"
   ]
  },
  {
   "cell_type": "code",
   "execution_count": 9,
   "metadata": {},
   "outputs": [],
   "source": [
    "#Function to calculate conditional probability and perplexity of test set - Quadgram Language Model\n",
    "\n",
    "# P(how do you do) = P(how) * P(do|how) * P(you| how do) * P(do | how do you)\n",
    "\n",
    "# Entropy = -[P(how) * log2P(how) +  P(do|how) * log2P(do|how) \n",
    "#             + P(you| how do) *log2P(you| how do) + P(do| how do you)*log2P(do | how do you)]\n",
    "\n",
    "# Perplexity = 2 ** Entropy\n",
    "\n",
    "\n",
    "def qgmPerp(List):\n",
    "    words = List[0].split()\n",
    "    #print(words)\n",
    "   \n",
    "    probU = unigram_prob(words[0]) #Calculate probability of Unigram\n",
    "    #print(\"Unigram\", words[0], \"Probability: \", probU)\n",
    "    lpU = math.log(probU,2)\n",
    "    \n",
    "    entQgm = probU * lpU\n",
    "    #print(\"Entropy of unigram without negative sign after Unigram: \",entTgm)\n",
    "    probB = cprob2gram[words[0]].prob(words[1]) #Calculate probability of Bigram\n",
    "    \n",
    "    probQgm = probB * probU # multiplication of Unigram and Bigram probability\n",
    "    lpB = math.log(probB,2)\n",
    "    \n",
    "    entQgm = entQgm + probB * lpB \n",
    "    #print(\"Entropy of unigram without negative sign after Bigram: \",entTgm)\n",
    "    \n",
    "    probT = cprob3gram[words[0],words[1]].prob(words[2]) #Calculate probability of Trigram\n",
    "    lpT = math.log(probT,2)\n",
    "    \n",
    "    entQgm = entQgm + probT * lpT\n",
    "    probQgm = probQgm * probT\n",
    "\n",
    "    N = len(words)\n",
    "\n",
    "    for i in range(3,N):\n",
    "        probQ = cprob4gram[words[i-3],words[i-2],words[i-1]].prob(words[i]) #Calculate probability of Quadgram\n",
    "        probQgm = probQgm * probQ # Cumulative multiply probabilities to get conditional probability of test set\n",
    "        #print(\"MLE of Bigram\", words[i-1], words[i], \": \", prB)\n",
    "        lpQ = math.log(probQ,2)\n",
    "        prod = probT * lpT\n",
    "        entQgm = entQgm + prod #Cumulative summation to obtain entropy of test set \n",
    "\n",
    "    Perp = 2** (-(entQgm))\n",
    "    print(\"Probability of test sentence using Quadgram Model: \", probQgm )\n",
    "    print(\"Model Perplexity Quadgram: \",2** (-(entQgm)))\n",
    "    #print(\"MLE of the sentence: \", sumPr)\n",
    "    #print(\"Perplexity of the model: \", Perp)\n",
    "    probPerp = [probQgm, Perp]\n",
    "    \n",
    "    return probPerp"
   ]
  },
  {
   "cell_type": "code",
   "execution_count": 10,
   "metadata": {},
   "outputs": [
    {
     "name": "stdout",
     "output_type": "stream",
     "text": [
      "Probability of test sentence using Bigram Model:  2.8948461169434444e-17\n",
      "Model Perplexity Bigram:  2.1481407782746427\n",
      "Probability of test sentence using Bigram Model:  1.9230049205410024e-16\n",
      "Model Perplexity Bigram:  1.615352753075985\n",
      "Probability of test sentence using Bigram Model:  3.173615988997049e-13\n",
      "Model Perplexity Bigram:  1.6081173426644568\n",
      "Probability of test sentence using Bigram Model:  1.7454887939483771e-12\n",
      "Model Perplexity Bigram:  1.1795227928000211\n",
      "Probability of test sentence using Bigram Model:  2.7753271823779194e-10\n",
      "Model Perplexity Bigram:  1.1425127953520748\n"
     ]
    }
   ],
   "source": [
    "#Test of bigram language model - Based on first few words from romance category in Brown corpus\n",
    "\n",
    "#Create test words from the vocabulary of the corpus\n",
    "EightWords = bgmPerp(['They neither liked nor disliked the Old Man'])\n",
    "SevenWords = bgmPerp(['They neither liked nor disliked the Old'])\n",
    "SixWords = bgmPerp(['They neither liked nor disliked the'])\n",
    "FiveWords = bgmPerp(['They neither liked nor disliked'])\n",
    "FourWords = bgmPerp(['They neither liked nor'])\n",
    "\n",
    "#Create a list that holds the result of probabilities and perplexity\n",
    "PPBgm = [EightWords, SevenWords, SixWords, FiveWords, FourWords]\n",
    "\n",
    "#Create a dataframe to store the number of words, its probability and model perplexity\n",
    "ppBDF = pd.DataFrame(PPBgm, columns = ['Bgm Prob','Bgm PP'])\n",
    "nWords = [8,7,6,5,4]\n",
    "ppBDF['Number of Words'] = nWords\n",
    "colName = 'Number of Words'\n",
    "first_col = ppBDF.pop(colName)\n",
    "ppBDF.insert(0,colName, first_col)"
   ]
  },
  {
   "cell_type": "code",
   "execution_count": 11,
   "metadata": {},
   "outputs": [
    {
     "data": {
      "text/plain": [
       "<Figure size 1440x720 with 0 Axes>"
      ]
     },
     "metadata": {},
     "output_type": "display_data"
    },
    {
     "data": {
      "image/png": "[encoded data removed]",
      "text/plain": [
       "<Figure size 432x288 with 1 Axes>"
      ]
     },
     "metadata": {
      "needs_background": "light"
     },
     "output_type": "display_data"
    },
    {
     "data": {
      "text/plain": [
       "<Figure size 1440x720 with 0 Axes>"
      ]
     },
     "metadata": {},
     "output_type": "display_data"
    },
    {
     "data": {
      "image/png": "[encoded data removed]",
      "text/plain": [
       "<Figure size 432x288 with 1 Axes>"
      ]
     },
     "metadata": {
      "needs_background": "light"
     },
     "output_type": "display_data"
    }
   ],
   "source": [
    "# plot Bigram Model Probability Vs Perplexity\n",
    "# Model Perplexity is inversely proportional to the word probability \n",
    "plt.figure(figsize=(20,10))\n",
    "ppBDF.plot.line(x = 'Bgm Prob', y = 'Bgm PP')\n",
    "plt.title('Probability Vs Perplexity Bigram Language Model Brown Corpus')\n",
    "plt.show()\n",
    "\n",
    "# plot Bigram Model Perplexity Vs Number of words\n",
    "# As number of word  in the test sentence increases, model perplexity increases\n",
    "plt.figure(figsize=(20,10))\n",
    "ppBDF.plot.line(x = 'Number of Words', y = 'Bgm PP')\n",
    "plt.xticks(np.arange(4, 9, step=1))\n",
    "plt.title('Number of Words Vs Perplexity Bigram Language Model Brown Corpus')\n",
    "plt.show()"
   ]
  },
  {
   "cell_type": "code",
   "execution_count": 12,
   "metadata": {},
   "outputs": [
    {
     "name": "stdout",
     "output_type": "stream",
     "text": [
      "Probability of test sentence using Trigram Model:  1.0198231871351072e-07\n",
      "Model Perplexity Trigram:  2.8686357192281617\n",
      "Probability of test sentence using Trigram Model:  4.3059201234593417e-07\n",
      "Model Perplexity Trigram:  2.039486964189216\n",
      "Probability of test sentence using Trigram Model:  8.611840246918683e-07\n",
      "Model Perplexity Trigram:  1.4421350625197602\n",
      "Probability of test sentence using Trigram Model:  8.611840246918683e-07\n",
      "Model Perplexity Trigram:  1.4421350625197602\n",
      "Probability of test sentence using Trigram Model:  8.611840246918683e-07\n",
      "Model Perplexity Trigram:  1.4421350625197602\n"
     ]
    }
   ],
   "source": [
    "#Test of trigram language model - Based on Brown corpus\n",
    "\n",
    "#Create test words from the vocabulary of the corpus\n",
    "EightWordsT = tgmPerp(['They neither liked nor disliked the Old Man'])\n",
    "SevenWordsT = tgmPerp(['They neither liked nor disliked the Old'])\n",
    "SixWordsT = tgmPerp(['They neither liked nor disliked the'])\n",
    "FiveWordsT = tgmPerp(['They neither liked nor disliked'])\n",
    "FourWordsT = tgmPerp(['They neither liked nor'])\n",
    "\n",
    "#Create a list that holds the result of probabilities and perplexity\n",
    "PPTgm = [EightWordsT, SevenWordsT, SixWordsT, FiveWordsT, FourWordsT]\n",
    "\n",
    "#Create a dataframe to store the number of words, its probability and model perplexity\n",
    "ppTDF = pd.DataFrame(PPTgm, columns = ['Tgm Prob','Tgm PP'])\n",
    "nWords = [8,7,6,5,4]\n",
    "ppTDF['Number of Words'] = nWords\n",
    "colName = 'Number of Words'\n",
    "first_col = ppTDF.pop(colName)\n",
    "ppTDF.insert(0,colName, first_col)"
   ]
  },
  {
   "cell_type": "code",
   "execution_count": 13,
   "metadata": {},
   "outputs": [
    {
     "data": {
      "text/plain": [
       "<Figure size 1440x720 with 0 Axes>"
      ]
     },
     "metadata": {},
     "output_type": "display_data"
    },
    {
     "data": {
      "image/png": "[encoded data removed]",
      "text/plain": [
       "<Figure size 432x288 with 1 Axes>"
      ]
     },
     "metadata": {
      "needs_background": "light"
     },
     "output_type": "display_data"
    },
    {
     "data": {
      "text/plain": [
       "<Figure size 1440x720 with 0 Axes>"
      ]
     },
     "metadata": {},
     "output_type": "display_data"
    },
    {
     "data": {
      "image/png": "[encoded data removed]",
      "text/plain": [
       "<Figure size 432x288 with 1 Axes>"
      ]
     },
     "metadata": {
      "needs_background": "light"
     },
     "output_type": "display_data"
    }
   ],
   "source": [
    "# plot Trigram Probability Vs Perplexity\n",
    "# Model Perplexity is inversely proportional to the word probability\n",
    "plt.figure(figsize=(20,10))\n",
    "ppTDF.plot.line(x = 'Tgm Prob', y = 'Tgm PP')\n",
    "plt.title('Probability Vs Perplexity Trigram Language Model Brown Corpus')\n",
    "plt.show()\n",
    "\n",
    "# plot Trigram Perplexity Vs Number of words\n",
    "# As number of word  in the test sentence increases, model perplexity increases\n",
    "plt.figure(figsize=(20,10))\n",
    "ppTDF.plot.line(x = 'Number of Words', y = 'Tgm PP')\n",
    "plt.xticks(np.arange(4, 9, step=1))\n",
    "plt.title('Number of Words Vs Perplexity Trigram Language Model Brown Corpus')\n",
    "plt.show()"
   ]
  },
  {
   "cell_type": "code",
   "execution_count": 14,
   "metadata": {},
   "outputs": [
    {
     "name": "stdout",
     "output_type": "stream",
     "text": [
      "Probability of test sentence using Quadgram Model:  8.611840246918683e-07\n",
      "Model Perplexity Quadgram:  8.157947856756866\n",
      "Probability of test sentence using Quadgram Model:  8.611840246918683e-07\n",
      "Model Perplexity Quadgram:  5.768540250079042\n",
      "Probability of test sentence using Quadgram Model:  8.611840246918683e-07\n",
      "Model Perplexity Quadgram:  4.078973928378433\n",
      "Probability of test sentence using Quadgram Model:  8.611840246918683e-07\n",
      "Model Perplexity Quadgram:  2.8842701250395204\n",
      "Probability of test sentence using Quadgram Model:  8.611840246918683e-07\n",
      "Model Perplexity Quadgram:  2.039486964189216\n"
     ]
    }
   ],
   "source": [
    "#Test of Quadgram language model - Based on Brown corpus\n",
    "\n",
    "#Create test words from the vocabulary of the corpus\n",
    "EightWordsQ = qgmPerp(['They neither liked nor disliked the Old Man'])\n",
    "SevenWordsQ = qgmPerp(['They neither liked nor disliked the Old'])\n",
    "SixWordsQ = qgmPerp(['They neither liked nor disliked the'])\n",
    "FiveWordsQ = qgmPerp(['They neither liked nor disliked'])\n",
    "FourWordsQ = qgmPerp(['They neither liked nor'])\n",
    "\n",
    "#Create a list that holds the result of probabilities and perplexity\n",
    "PPQgm = [EightWordsQ, SevenWordsQ, SixWordsQ, FiveWordsQ, FourWordsQ]\n",
    "\n",
    "#Create a dataframe to store the number of words, its probability and model perplexity\n",
    "ppQDF = pd.DataFrame(PPQgm, columns = ['Qgm Prob','Qgm PP'])\n",
    "nWords = [8,7,6,5,4]\n",
    "ppQDF['Number of Words'] = nWords\n",
    "colName = 'Number of Words'\n",
    "first_col = ppQDF.pop(colName)\n",
    "ppQDF.insert(0,colName, first_col)"
   ]
  },
  {
   "cell_type": "code",
   "execution_count": 15,
   "metadata": {},
   "outputs": [
    {
     "data": {
      "text/plain": [
       "<Figure size 1440x720 with 0 Axes>"
      ]
     },
     "metadata": {},
     "output_type": "display_data"
    },
    {
     "data": {
      "image/png": "[encoded data removed]",
      "text/plain": [
       "<Figure size 432x288 with 1 Axes>"
      ]
     },
     "metadata": {
      "needs_background": "light"
     },
     "output_type": "display_data"
    },
    {
     "data": {
      "text/plain": [
       "<Figure size 1440x720 with 0 Axes>"
      ]
     },
     "metadata": {},
     "output_type": "display_data"
    },
    {
     "data": {
      "image/png": "[encoded data removed]",
      "text/plain": [
       "<Figure size 432x288 with 1 Axes>"
      ]
     },
     "metadata": {
      "needs_background": "light"
     },
     "output_type": "display_data"
    }
   ],
   "source": [
    "# plot Quadgram Model Probability Vs Perplexity\n",
    "plt.figure(figsize=(20,10))\n",
    "ppQDF.plot.line(x = 'Qgm Prob', y = 'Qgm PP')\n",
    "plt.title('Probability Vs Perplexity Quadgram Language Model Brown Corpus')\n",
    "plt.show()\n",
    "\n",
    "# plot Quadgram Perplexity Vs Number of words\n",
    "# As number of word  in the test sentence increases, model perplexity increases\n",
    "plt.figure(figsize=(20,10))\n",
    "ppQDF.plot.line(x = 'Number of Words', y = 'Qgm PP')\n",
    "plt.xticks(np.arange(4, 9, step=1))\n",
    "plt.title('Number of Words Vs Perplexity Quadgram Language Model Brown Corpus')\n",
    "plt.show()"
   ]
  },
  {
   "cell_type": "code",
   "execution_count": 16,
   "metadata": {},
   "outputs": [
    {
     "data": {
      "image/png": "[encoded data removed]",
      "text/plain": [
       "<Figure size 432x288 with 1 Axes>"
      ]
     },
     "metadata": {
      "needs_background": "light"
     },
     "output_type": "display_data"
    }
   ],
   "source": [
    "#Plot probability of test sentence for language models\n",
    "\n",
    "#Merge three dataframes based on number of words\n",
    "mergedDF1 = pd.merge(ppBDF, ppTDF, on='Number of Words')\n",
    "#print(mergedDF1)\n",
    "mergedDF = pd.merge(mergedDF1, ppQDF, on = 'Number of Words')\n",
    "#print(mergedDF)\n",
    "\n",
    "#As number of words increases, higher order ngrams has lower probability\n",
    "plt.plot('Number of Words', 'Bgm Prob', data = ppBDF, color = 'blue')\n",
    "plt.plot('Number of Words','Tgm Prob', data = ppTDF, color = 'red')\n",
    "plt.plot('Number of Words','Qgm Prob', data = ppQDF, color = 'green')\n",
    "plt.xlabel('Number of Words')\n",
    "plt.ylabel('Perplexity')\n",
    "plt.xticks(np.arange(4, 9, step=1))\n",
    "plt.legend()\n",
    "plt.title('Probability Vs No. of Words - Brown Corpus')\n",
    "plt.show()"
   ]
  },
  {
   "cell_type": "code",
   "execution_count": 17,
   "metadata": {},
   "outputs": [
    {
     "data": {
      "image/png": "[encoded data removed]",
      "text/plain": [
       "<Figure size 432x288 with 1 Axes>"
      ]
     },
     "metadata": {
      "needs_background": "light"
     },
     "output_type": "display_data"
    }
   ],
   "source": [
    "#Plot perplexity of test sentence for language models\n",
    "#Lower the perplexity value of the model, the better it is\n",
    "\n",
    "plt.plot('Number of Words', 'Bgm PP', data = ppBDF, color = 'blue')\n",
    "plt.plot('Number of Words', 'Tgm PP', data = ppTDF, color = 'red')\n",
    "plt.plot('Number of Words', 'Qgm PP', data = ppQDF, color = 'green')\n",
    "plt.legend()\n",
    "plt.xlabel('Number of words')\n",
    "plt.ylabel('Perplexity')\n",
    "plt.xticks(np.arange(4, 9, step=1))\n",
    "plt.title('Perplexity Vs Number of Words - Brown Corpus')\n",
    "plt.show()"
   ]
  },
  {
   "cell_type": "code",
   "execution_count": 18,
   "metadata": {},
   "outputs": [
    {
     "data": {
      "text/plain": [
       "<Figure size 1440x720 with 0 Axes>"
      ]
     },
     "metadata": {},
     "output_type": "display_data"
    },
    {
     "data": {
      "image/png": "[encoded data removed]",
      "text/plain": [
       "<Figure size 432x288 with 1 Axes>"
      ]
     },
     "metadata": {
      "needs_background": "light"
     },
     "output_type": "display_data"
    }
   ],
   "source": [
    "#Quadgram models are more perplexed as longer test sentences results in checking of more sequences\n",
    "#Because Quadgram models have to examine more conditions than Trigram and Bigram models\n",
    "\n",
    "#Number of conditions for Language models\n",
    "bgmC = len(cprob2gram.conditions())\n",
    "tgmC = len(cprob3gram.conditions())\n",
    "qgmC = len(cprob4gram.conditions())\n",
    "\n",
    "LM = [['Bigram',bgmC],['Trigram',tgmC],['Quadgram',qgmC]]\n",
    "condDF = pd.DataFrame(LM, columns=['Language Model', 'Conditions'])\n",
    "\n",
    "# plot the data\n",
    "plt.figure(figsize=(20,10))\n",
    "condDF.plot.bar(x = 'Language Model', y = 'Conditions')\n",
    "plt.title('Number of conditions for language models in Brown Corpus')\n",
    "plt.show()"
   ]
  },
  {
   "cell_type": "code",
   "execution_count": 19,
   "metadata": {},
   "outputs": [
    {
     "data": {
      "text/plain": [
       "<Figure size 1440x720 with 0 Axes>"
      ]
     },
     "metadata": {},
     "output_type": "display_data"
    },
    {
     "data": {
      "image/png": "[encoded data removed]",
      "text/plain": [
       "<Figure size 432x288 with 1 Axes>"
      ]
     },
     "metadata": {
      "needs_background": "light"
     },
     "output_type": "display_data"
    }
   ],
   "source": [
    "#Quadgram models can better predict the following word better for a given test sentence as it contains more train sequences\n",
    "\n",
    "#Let us consider the sequence of words \"information is made\"\n",
    "\n",
    "#Number of possible words following the presence of word sequence(s) for Language models\n",
    "qWords = len(cfreq4gram[\"information\",\"is\",\"made\"].keys())\n",
    "tWords = len(cfreq3gram[\"is\",\"made\"].keys())\n",
    "bWords = len(cfreq2gram[\"made\"].keys())\n",
    "\n",
    "LM = [['Quadgram',qWords],['Trigram',tWords],['Bigram',bWords]]\n",
    "pWordsDF = pd.DataFrame(LM, columns=['Language Model', 'Possible Words'])\n",
    "\n",
    "# plot the data\n",
    "plt.figure(figsize=(20,10))\n",
    "pWordsDF.plot.bar(x = 'Language Model', y = 'Possible Words')\n",
    "plt.title('Number of possible words after information is made')\n",
    "plt.show()"
   ]
  },
  {
   "cell_type": "code",
   "execution_count": 20,
   "metadata": {},
   "outputs": [
    {
     "name": "stdout",
     "output_type": "stream",
     "text": [
      "Quadgram Model\n",
      "available available available available available available available available available available \n",
      "\n",
      "Trigram Model\n",
      "retrieved thus written made to available that carefully reasonably to \n",
      "\n",
      "Bigram Model\n",
      "it to concerning elicited necessary and on . about and "
     ]
    }
   ],
   "source": [
    "#Generate 10 words based on Test input of three words of \"information is made\" using Quadgram model\n",
    "words = [\"information\", \"is\", \"made\"]\n",
    "\n",
    "#Quadgram model is generating the next word correctly as \"available\"\n",
    "print(\"Quadgram Model\")\n",
    "for index in range(10):\n",
    "    word = cprob4gram[words[0],words[1],words[2]].generate()\n",
    "    print(word, end = \" \")\n",
    "\n",
    "#Generate 10 words based on Test input of three words of \"information is made\" using Trigram model\n",
    "\n",
    "#Trigram model has generated the correct word \"available\" few times as many options are available \n",
    "print(\"\\n\\nTrigram Model\")\n",
    "for index in range(10):\n",
    "    word = cprob3gram[words[0],words[1]].generate()\n",
    "    print(word, end = \" \")\n",
    "\n",
    "#Generate 10 words based on Test input of three words of \"information is made\" using Bigram model\n",
    "\n",
    "#Unigram model has generated all kinds of words as many more options are available \n",
    "print(\"\\n\\nBigram Model\")\n",
    "for index in range(10):\n",
    "    word = cprob2gram[words[0]].generate()\n",
    "    print(word, end = \" \")"
   ]
  },
  {
   "cell_type": "code",
   "execution_count": 21,
   "metadata": {},
   "outputs": [
    {
     "name": "stdout",
     "output_type": "stream",
     "text": [
      "Probability (place | Bengaluru is cool) (Quadgram model):  0\n",
      "Probability (place | is cool) (Trigram model):  0.0\n",
      "Probability (place | cool) (Bigram model):  <MLEProbDist based on 528 samples>\n",
      "Is the word Bengaluru present in vocabulary:  False\n",
      "Is the word is present in vocabulary:  True\n",
      "Is the word cool present in vocabulary:  True\n",
      "Is the word place present in vocabulary:  True\n"
     ]
    }
   ],
   "source": [
    "#Out of Vocabulary testing\n",
    "oovWords = [\"Bengaluru\",\"is\",\"cool\",\"place\"]\n",
    "\n",
    "#Check the probability of the test sentence\n",
    "print(\"Probability (place | Bengaluru is cool) (Quadgram model): \",\n",
    "      cprob4gram[oovWords[0],oovWords[1],oovWords[2]].prob(oovWords[3]))\n",
    "print(\"Probability (place | is cool) (Trigram model): \",\n",
    "      cprob3gram[oovWords[1],oovWords[2]].prob(oovWords[3]))\n",
    "print(\"Probability (place | cool) (Bigram model): \", cprob2gram[oovWords[3]]) #<MLEProbDist based on 528 samples>\n",
    "\n",
    "#Assign non-zero probability for out of vocabulary words in developed language model\n",
    "#Check if test words are available in vocabulary\n",
    "vocab = set(nltk.corpus.brown.words())\n",
    "\n",
    "for i in range(len(oovWords)):\n",
    "    print(\"Is the word\", oovWords[i], \"present in vocabulary: \",oovWords[i] in vocab)"
   ]
  },
  {
   "cell_type": "code",
   "execution_count": 22,
   "metadata": {},
   "outputs": [
    {
     "name": "stdout",
     "output_type": "stream",
     "text": [
      "Words in vocabulary\n",
      "Probability of Unigram information without lambda:  0.00022218547837050203\n",
      "Probability of Unigram information with lambda:  0.00021111926365321152\n",
      "Out of Vocabulary words\n",
      "Probability of Unigram Bengaluru without lambda:  0.0\n",
      "Probability of Unigram Bengaluru with lambda:  4.3059201234593454e-08\n"
     ]
    }
   ],
   "source": [
    "#Unigram Model for out of vocabulary words\n",
    "\n",
    "#P(w(i)) = Lambda * P (w(i)) + (1- Lambda) * (1/N)\n",
    "\n",
    "#N = number of unique words\n",
    "#95% of words available in corpus and 5% for out of vocabulary words\n",
    "#Hence lambda is 0.95\n",
    "\n",
    "N  = len(nltk.corpus.brown.words())\n",
    "Lambda = 0.95\n",
    "freq_brown_1gram = nltk.FreqDist(brown.words()) \n",
    "\n",
    "def uProb(word):\n",
    "    prU = Lambda * (freq_brown_1gram[word]/N) + (1-Lambda) * (1/N)\n",
    "    return prU\n",
    "    \n",
    "print(\"Words in vocabulary\")\n",
    "print(\"Probability of Unigram information without lambda: \", unigram_prob(\"information\")) #0.00022218547837050203\n",
    "print(\"Probability of Unigram information with lambda: \", uProb(\"information\")) #0.00021111926365321152\n",
    "print(\"Out of Vocabulary words\")\n",
    "print(\"Probability of Unigram Bengaluru without lambda: \", unigram_prob(\"Bengaluru\")) #0.0\n",
    "print(\"Probability of Unigram Bengaluru with lambda: \", uProb(\"Bengaluru\")) #4.3059201234593454e-08"
   ]
  },
  {
   "cell_type": "code",
   "execution_count": 23,
   "metadata": {},
   "outputs": [
    {
     "name": "stdout",
     "output_type": "stream",
     "text": [
      "#############################################################\n",
      "Words in vocabulary\n",
      "#############################################################\n",
      "Probability of Bigram information is (without lambda) \n",
      "Probability of test sentence using Bigram Model:  1.2917760370378025e-05\n",
      "Model Perplexity Bigram:  1.1820742475171415\n",
      "Probability of Bigram information is (with lambda) \n",
      "Probability of test sentence using Bigram model with lambda : 1.1747113410836165e-05\n",
      "#############################################################\n",
      "Out of Vocabulary words\n",
      "#############################################################\n",
      "Probability of Bigram Bengaluru is (without lambda) \n",
      "Probability of test sentence using Bigram Model:  0.0\n",
      "Model Perplexity Bigram:  1.0\n",
      "Probability of Bigram Bengaluru is (with lambda) \n",
      "Probability of test sentence using Bigram model with lambda : 1.763336869964663e-11\n",
      "#############################################################\n"
     ]
    }
   ],
   "source": [
    "#Bigram model for out of vocabulary words\n",
    "\n",
    "#P(w(i) / w(i-1)) = Lambda * P ( w(i) / w(i-1)) + (1- Lambda) * P(w(i))\n",
    "#P(is/Bengaluru ) = Lambda * P(is/Bengaluru) + (1-Lambda) * P(is)\n",
    "\n",
    "def bProb(List):\n",
    "    \n",
    "    Lambda = 0.95\n",
    "    words = List[0].split()\n",
    "    \n",
    "    prodPr = uProb(words[0]) #Calculate probability of Unigram\n",
    "    #print(\"Unigram\", words[0], \"Probability: \", prodPr)\n",
    "    \n",
    "    N = len(words)\n",
    "\n",
    "    for i in range(1,N):\n",
    "        prB = Lambda * (cprob2gram[words[i-1]].prob(words[i])) + (1-Lambda) * uProb(words[i]) #Calculate Bigram probability\n",
    "        prodPr = prodPr*prB # Cumulative multiply probabilities to get conditional probability of test set\n",
    "    \n",
    "    print(\"Probability of test sentence using Bigram model with lambda :\", prodPr)\n",
    "        \n",
    "    return prodPr\n",
    "\n",
    "print(\"#############################################################\")\n",
    "print(\"Words in vocabulary\")\n",
    "print(\"#############################################################\")\n",
    "print(\"Probability of Bigram information is (without lambda) \")\n",
    "bgmPerp([\"information is\"]) #Probability - 1.2917760370378025e-05 \n",
    "print(\"Probability of Bigram information is (with lambda) \")\n",
    "bProb([\"information is\"]) #Probability - 1.1747113410836165e-05\n",
    "print(\"#############################################################\")\n",
    "print(\"Out of Vocabulary words\")\n",
    "print(\"#############################################################\")\n",
    "print(\"Probability of Bigram Bengaluru is (without lambda) \")\n",
    "bgmPerp([\"Bengaluru is\"])#0\n",
    "print(\"Probability of Bigram Bengaluru is (with lambda) \")\n",
    "bProb([\"Bengaluru is\"]) #1.763336869964663e-11\n",
    "print(\"#############################################################\")"
   ]
  },
  {
   "cell_type": "code",
   "execution_count": 24,
   "metadata": {},
   "outputs": [
    {
     "name": "stdout",
     "output_type": "stream",
     "text": [
      "#############################################################\n",
      "Probability of Bengaluru is cool place without lambda: \n",
      "Probability of test sentence using Bigram Model:  0.0\n",
      "Model Perplexity Bigram:  1.0735036838373988\n",
      "Probability of Bengaluru is cool place with lambda: \n",
      "Probability of test sentence using Bigram model with lambda : 2.8130901388473795e-17\n",
      "#############################################################\n"
     ]
    }
   ],
   "source": [
    "#For a test sentence Bengaluru is cool place, let us calculate probability using bigram model\n",
    "\n",
    "#P(Bengaluru is cool place) = P(Bengaluru) * P(is/Bengaluru ) * P(cool/is ) * P(place/cool )\n",
    "\n",
    "#P(Bengaluru) = Lambda * P (Bengaluru) + (1- Lambda) * (1/N)\n",
    "#P(is/Bengaluru ) = Lambda * P(is/Bengaluru) + (1-Lambda) * P(is)\n",
    "#P(cool/is ) = Lambda * P(cool/is) + (1-Lambda) * P(cool)\n",
    "#P(place/cool ) = Lambda * P(place/cool) + (1-Lambda) * P(place)\n",
    "\n",
    "#words = [\"Bengaluru is cool place\"]\n",
    "print(\"#############################################################\")\n",
    "print(\"Probability of Bengaluru is cool place without lambda: \")\n",
    "bgmPerp([\"Bengaluru is cool place\"]) #0\n",
    "print(\"Probability of Bengaluru is cool place with lambda: \")\n",
    "bProb([\"Bengaluru is cool place\"]) #2.8130901388473795e-17\n",
    "print(\"#############################################################\")"
   ]
  },
  {
   "cell_type": "code",
   "execution_count": 25,
   "metadata": {},
   "outputs": [
    {
     "name": "stdout",
     "output_type": "stream",
     "text": [
      "################################################################################################################\n",
      "Test sentence:  ['rising', 'up', 'from', 'aluminum', 'trays', 'wrapped', 'in', 'fly-dotted', 'cheesecloth', '.']\n",
      "################################################################################################################\n",
      "Quadgram Model ['rising', 'up', 'from', 'aluminum', 'trays', 'wrapped', 'in', 'fly-dotted', 'cheesecloth', '.']\n",
      "################################################################################################################\n",
      "Trigram Model ['rising', 'up', 'from', 'there', 'and', 'arguing', 'that', 'he', 'would', 'ever']\n",
      "################################################################################################################\n",
      "Bigram Model ['rising', 'up', 'from', 'an', 'eight-inch', 'level', 'fed', 'therewith', '.', 'One']\n",
      "################################################################################################################\n"
     ]
    }
   ],
   "source": [
    "#Create a sentence of 10 words after the user has provided inputs\n",
    "#\n",
    "#Let us take some random words from a specific category in brown corpus\n",
    "words = nltk.corpus.brown.words(categories = \"romance\")\n",
    "print(\"################################################################################################################\")\n",
    "print(\"Test sentence: \", words[110:120])\n",
    "print(\"################################################################################################################\")\n",
    "#words selected are \"rising up from\"\n",
    "wordsQ = [\"rising\", \"up\", \"from\"]\n",
    "\n",
    "while len(wordsQ) < 10:\n",
    "    new = cprob4gram[wordsQ[-3],wordsQ[-2],wordsQ[-1]].generate()\n",
    "    wordsQ.append(new)\n",
    "print(\"Quadgram Model\", wordsQ)\n",
    "print(\"################################################################################################################\")\n",
    "#\n",
    "#\n",
    "\n",
    "wordsT = [\"rising\", \"up\", \"from\"]\n",
    "while len(wordsT) < 10:\n",
    "    new = cprob3gram[wordsT[-2],wordsT[-1]].generate()\n",
    "    wordsT.append(new)\n",
    "print(\"Trigram Model\", wordsT)\n",
    "print(\"################################################################################################################\")\n",
    "#\n",
    "#\n",
    "wordsB = [\"rising\", \"up\", \"from\"]\n",
    "while len(wordsB) < 10:\n",
    "    new = cprob2gram[wordsB[-1]].generate()\n",
    "    wordsB.append(new)\n",
    "print(\"Bigram Model\", wordsB)\n",
    "print(\"################################################################################################################\")"
   ]
  },
  {
   "cell_type": "code",
   "execution_count": null,
   "metadata": {},
   "outputs": [],
   "source": []
  }
 ],
 "metadata": {
  "kernelspec": {
   "display_name": "Python 3",
   "language": "python",
   "name": "python3"
  },
  "language_info": {
   "codemirror_mode": {
    "name": "ipython",
    "version": 3
   },
   "file_extension": ".py",
   "mimetype": "text/x-python",
   "name": "python",
   "nbconvert_exporter": "python",
   "pygments_lexer": "ipython3",
   "version": "3.8.3"
  }
 },
 "nbformat": 4,
 "nbformat_minor": 4
}
