{
 "cells": [
  {
   "cell_type": "code",
   "execution_count": 1,
   "metadata": {},
   "outputs": [],
   "source": [
    "import random\n",
    "import numpy as np\n",
    "import pandas as pd\n",
    "import matplotlib.pyplot as plt\n",
    "from sklearn.model_selection import train_test_split\n",
    "from sklearn.linear_model import Perceptron\n",
    "from sklearn import preprocessing\n",
    "from sklearn.linear_model import SGDClassifier\n",
    "from sklearn.preprocessing import StandardScaler\n",
    "from sklearn.pipeline import make_pipeline\n",
    "from sklearn.metrics import confusion_matrix"
   ]
  },
  {
   "cell_type": "markdown",
   "metadata": {},
   "source": [
    "#Website to pick up positive and negative words for this exercise\n",
    "\n",
    "http://ptrckprry.com/course/ssd/data/negative-words.txt\n",
    "http://ptrckprry.com/course/ssd/data/positive-words.txt\n",
    "    \n",
    "Download and store this file as Positive.txt and Negative.txt in current working directory"
   ]
  },
  {
   "cell_type": "code",
   "execution_count": 2,
   "metadata": {},
   "outputs": [],
   "source": [
    "with open('Positive.txt', 'r') as f2:\n",
    "    pos = f2.read()\n",
    "positive = list(pos.splitlines())"
   ]
  },
  {
   "cell_type": "code",
   "execution_count": 3,
   "metadata": {},
   "outputs": [],
   "source": [
    "with open('Negative.txt', 'r') as f2:\n",
    "    neg = f2.read()\n",
    "negative = list(neg.splitlines())"
   ]
  },
  {
   "cell_type": "code",
   "execution_count": 4,
   "metadata": {},
   "outputs": [
    {
     "name": "stdout",
     "output_type": "stream",
     "text": [
      "Number of positive words:  2006\n",
      "Number of negative words:  4783\n",
      "Total number of words:  6789\n"
     ]
    }
   ],
   "source": [
    "print(\"Number of positive words: \", len(positive)) #2006\n",
    "print(\"Number of negative words: \", len(negative)) #4783\n",
    "print(\"Total number of words: \", len(positive) + len(negative)) #6789"
   ]
  },
  {
   "cell_type": "code",
   "execution_count": 5,
   "metadata": {},
   "outputs": [
    {
     "name": "stdout",
     "output_type": "stream",
     "text": [
      "First ten words in Positive List: \n",
      " ['a+', 'abound', 'abounds', 'abundance', 'abundant', 'accessable', 'accessible', 'acclaim', 'acclaimed', 'acclamation']\n",
      "First ten words in Negative List: \n",
      " ['2-faced', '2-faces', 'abnormal', 'abolish', 'abominable', 'abominably', 'abominate', 'abomination', 'abort', 'aborted']\n"
     ]
    }
   ],
   "source": [
    "print(\"First ten words in Positive List: \\n\", positive[:10])\n",
    "print(\"First ten words in Negative List: \\n\", negative[:10])"
   ]
  },
  {
   "cell_type": "code",
   "execution_count": 6,
   "metadata": {},
   "outputs": [
    {
     "name": "stdout",
     "output_type": "stream",
     "text": [
      "First ten words in Positive List: \n",
      " ['abound', 'abounds', 'abundance', 'abundant', 'accessable', 'accessible', 'acclaim', 'acclaimed', 'acclamation', 'accolade']\n",
      "First ten words in Negative List: \n",
      " ['abnormal', 'abolish', 'abominable', 'abominably', 'abominate', 'abomination', 'abort', 'aborted', 'aborts', 'abrade']\n",
      "Total number of words:  6562\n"
     ]
    }
   ],
   "source": [
    "#Include words that contain only alphabets\n",
    "#Total words for consideration shall reduce from 6789 to 6562\n",
    "positive_words = [w for w in positive if w.isalpha()]\n",
    "negative_words = [w for w in negative if w.isalpha()]\n",
    "print(\"First ten words in Positive List: \\n\", positive_words[:10])\n",
    "print(\"First ten words in Negative List: \\n\", negative_words[:10])\n",
    "print(\"Total number of words: \", len(positive_words) + len(negative_words))"
   ]
  },
  {
   "cell_type": "code",
   "execution_count": 7,
   "metadata": {},
   "outputs": [],
   "source": [
    "# Visit https://nlp.stanford.edu/projects/glove/\n",
    "\n",
    "#GloVe is an unsupervised learning algorithm for obtaining vector representations for words. \n",
    "#Training is performed on aggregated global word-word co-occurrence statistics from a corpus, \n",
    "#and the resulting representations showcase interesting linear substructures of the word vector space.\n",
    "\n",
    "# Download glove.6B.zip available under download pre-trained word vectors\n",
    "# Unzip the file to get 4 text files: glove.6B.50d.txt, glove.6B.100d.txt, glove.6B.200d.txt, glove.6B.300d.txt\n",
    "# Store these files in the current working directory\n",
    "\n",
    "# Open the file glove.6B.50d.txt\n",
    "\n",
    "f = open('glove.6B.50d.txt', encoding = 'utf-8')\n",
    "emb_dict = {}\n",
    "\n",
    "#For every line in glove\n",
    "#Check if the word in glove is present in either positive or negative wordlist\n",
    "#If word from glove is present in positive_words append the vector with 1.0\n",
    "#If word from glove is present in negative_words append the vector with 0.0\n",
    "\n",
    "#This code takes few minutes to execute depending upon your computer configuration\n",
    "\n",
    "for line in f:\n",
    "    values = line.split(' ')\n",
    "    word = values[0] ## The first entry is the word\n",
    "    vector = np.asarray(values[1:], dtype='float32') ## These are the vecotrs representing the embedding for the word\n",
    "    if word in positive_words:\n",
    "        vector = np.append(vector, [1.0]) #Append 1.0 as last element if GloVe word is positive\n",
    "        emb_dict[word] = vector\n",
    "    if word in negative_words: \n",
    "        vector = np.append(vector, [0.0]) #Append 0.0 as last element if GloVe word is positive\n",
    "        emb_dict[word] = vector\n",
    "f.close()"
   ]
  },
  {
   "cell_type": "code",
   "execution_count": 8,
   "metadata": {},
   "outputs": [
    {
     "name": "stdout",
     "output_type": "stream",
     "text": [
      "Number of words in the embedded dictionary created:  6088\n",
      "One Hot Vector code for word support: \n",
      " [ 0.36274001 -0.033799    0.73714    -0.41275001  0.17885     0.28384\n",
      " -0.24078    -0.26093999 -0.059845   -0.04074     0.076052   -0.10649\n",
      "  0.2413     -0.27102    -1.02190006 -0.14183     0.15020999 -0.31005001\n",
      "  0.71859998 -0.42427999 -0.049672    0.1063     -0.25183001 -0.61770999\n",
      " -0.10167    -1.73000002  0.38166001 -0.72860998 -0.46377999  0.56633002\n",
      "  3.77550006  0.75739998 -0.99729002 -0.73075002 -0.32681999 -0.23345999\n",
      " -0.12167    -0.1636     -0.79290003 -0.63738     0.20036    -0.033997\n",
      " -0.36449999 -0.38150999 -0.12014     0.019369   -0.89390999  0.51591003\n",
      " -0.2976      0.067125    1.        ]\n",
      "Number of elements for word support:  51\n",
      "One Hot Vector code for word abnormal: \n",
      " [ 0.36660999 -0.038078   -0.40967     0.14612     0.13959999  0.95191997\n",
      "  1.38240004  0.027714    0.94625998  0.82260001  1.54209995 -0.23259\n",
      "  0.29028001  0.65035999  0.18186     0.56213999 -0.69217002 -0.75139999\n",
      " -0.16266    -0.097634   -0.56269997 -0.23447999  1.34259999 -0.30313\n",
      "  0.47277999  0.025779   -0.87607002  0.52319002  0.91049999  0.40292999\n",
      "  1.71399999  0.25003999  0.73837    -1.24849999 -0.58675998 -0.14757\n",
      "  0.72842997  0.17088     0.44130999  0.85026002 -0.74627    -0.49283999\n",
      "  0.014023    0.87919998  0.98351997 -1.17159998  0.67894     0.39087999\n",
      "  0.63981003  0.38459     0.        ]\n",
      "Number of elements for word abnormal:  51\n"
     ]
    }
   ],
   "source": [
    "#Only 6088 words in GloVe are available out of 6562 words available in list of positive_words and negative_words\n",
    "\n",
    "print(\"Number of words in the embedded dictionary created: \", len(emb_dict))\n",
    "\n",
    "#Check the content of elements of specific word and check for inclusion of 1 (positive) or 0 (negative)\n",
    "print(\"One Hot Vector code for word support: \\n\", emb_dict[\"support\"])\n",
    "print(\"Number of elements for word support: \", len(emb_dict[\"support\"])) \n",
    "#51 elements. Last element is either 1 or 0 depending upon positive or negative\n",
    "print(\"One Hot Vector code for word abnormal: \\n\", emb_dict[\"abnormal\"])\n",
    "print(\"Number of elements for word abnormal: \", len(emb_dict[\"abnormal\"])) #51 elements."
   ]
  },
  {
   "cell_type": "code",
   "execution_count": 9,
   "metadata": {},
   "outputs": [],
   "source": [
    "#Define a function to predict sentiment of the word given. This is based on the last element of vector hot coded \n",
    "def predict_Sentiments(words):\n",
    "    senti = emb_dict[words]\n",
    "    print(words, \"is Positive\") if senti[50] == 1 else print(words, \"is Negative\")"
   ]
  },
  {
   "cell_type": "code",
   "execution_count": 10,
   "metadata": {},
   "outputs": [
    {
     "name": "stdout",
     "output_type": "stream",
     "text": [
      "support is Positive\n",
      "abnormal is Negative\n"
     ]
    }
   ],
   "source": [
    "#Checking whether words are positive or negative\n",
    "predict_Sentiments(\"support\")\n",
    "predict_Sentiments(\"abnormal\")"
   ]
  },
  {
   "cell_type": "code",
   "execution_count": 11,
   "metadata": {},
   "outputs": [],
   "source": [
    "#Features are the one hot vector numbers(first 50 elements) associated with the word\n",
    "#Labels are the last element in the value in dictionary\n",
    "def features_and_labels(words):\n",
    "    senti = emb_dict[words]\n",
    "    features = senti[:50]\n",
    "    labels = senti[50]\n",
    "    return features, labels"
   ]
  },
  {
   "cell_type": "code",
   "execution_count": 12,
   "metadata": {},
   "outputs": [],
   "source": [
    "#keys variable shall hold all the 6088 words in GloVe which can be resolved as positive or negative\n",
    "\n",
    "keys = list(emb_dict.keys())\n",
    "\n",
    "#Collect all features of a word (50 dimensions) in X variable\n",
    "#Collect all labels (either 1 for Positive or 0 for negative in y variable)\n",
    "\n",
    "X = []\n",
    "y = []\n",
    "for i in keys:\n",
    "    features, labels = features_and_labels(i) #Call the function\n",
    "    X.append(features)\n",
    "    y.append(labels)"
   ]
  },
  {
   "cell_type": "code",
   "execution_count": 13,
   "metadata": {},
   "outputs": [
    {
     "data": {
      "image/png": "[encoded data removed]",
      "text/plain": [
       "<Figure size 432x288 with 1 Axes>"
      ]
     },
     "metadata": {
      "needs_background": "light"
     },
     "output_type": "display_data"
    }
   ],
   "source": [
    "#Word is not available. Instead features as a 50d vector and label as a 1d scalar\n",
    "#Split the data 80% for training and 20% for testing for developing a perceptron model with a random_state\n",
    "\n",
    "X_train, X_test, y_train, y_test = train_test_split(X, y, test_size=0.2, random_state=42)\n",
    "\n",
    "totSam = len(X)\n",
    "totPosSam = sum(y)\n",
    "totNegSam = totSam - totPosSam\n",
    "\n",
    "totTrgSam = len(X_train)\n",
    "totPosTrgSam = sum(y_train)\n",
    "totNegTrgSam = totTrgSam - totPosTrgSam\n",
    "\n",
    "totTestSam = len(X_test)\n",
    "totPosTestSam = sum(y_test)\n",
    "totNegTestSam = totTestSam - totPosTestSam\n",
    "\n",
    "total = ['Total', totSam, totPosSam, totNegSam]\n",
    "training = ['Training', totTrgSam, totPosTrgSam, totNegTrgSam]\n",
    "test = ['Test', totTestSam,totPosTestSam, totNegTestSam]\n",
    "\n",
    "mylist = [total, training, test]\n",
    "\n",
    "data = pd.DataFrame(mylist, columns = ['Type of Sample', 'Number of Samples', 'Positive', 'Negative'])\n",
    "\n",
    "data.plot('Type of Sample' , ['Number of Samples','Positive','Negative'], kind='bar')\n",
    "\n",
    "plt.show()\n",
    "#Approximately 30% of total and training samples are positive\n",
    "#Approximately 29% of test samples are positive\n",
    "#So, majority sample of words are negative"
   ]
  },
  {
   "cell_type": "code",
   "execution_count": 14,
   "metadata": {},
   "outputs": [
    {
     "data": {
      "text/plain": [
       "Perceptron(eta0=1e-05, max_iter=5000)"
      ]
     },
     "execution_count": 14,
     "metadata": {},
     "output_type": "execute_result"
    }
   ],
   "source": [
    "#Make a perceptron classifier with learning rate as eta and max number of iterations = 5000\n",
    "clf = Perceptron(eta0=0.00001, max_iter=5000)\n",
    "clf.fit(X_train, y_train)"
   ]
  },
  {
   "cell_type": "code",
   "execution_count": 150,
   "metadata": {},
   "outputs": [],
   "source": [
    "trgAccPerc = (clf.score(X_train,y_train))*100 #Training accuracy is 83.14%"
   ]
  },
  {
   "cell_type": "code",
   "execution_count": 151,
   "metadata": {},
   "outputs": [],
   "source": [
    "testAccPerc = (clf.score(X_test,y_test))*100 #Testing accuracy is 81.85%"
   ]
  },
  {
   "cell_type": "code",
   "execution_count": 17,
   "metadata": {},
   "outputs": [],
   "source": [
    "# Function to check given words are positive or negative\n",
    "def predSent(word):\n",
    "    senti = emb_dict[word]\n",
    "    val = clf.predict(senti[:-1].reshape(1,-1))\n",
    "    print(word, \"is Positive\") if val == 1 else print(word, \"is Negative\")    "
   ]
  },
  {
   "cell_type": "code",
   "execution_count": 18,
   "metadata": {},
   "outputs": [
    {
     "name": "stdout",
     "output_type": "stream",
     "text": [
      "abnormal is Negative\n"
     ]
    }
   ],
   "source": [
    "#Test a word\n",
    "predSent(\"abnormal\")"
   ]
  },
  {
   "cell_type": "code",
   "execution_count": 19,
   "metadata": {},
   "outputs": [
    {
     "name": "stdout",
     "output_type": "stream",
     "text": [
      "support is Positive\n"
     ]
    }
   ],
   "source": [
    "#Test another word\n",
    "predSent(\"support\")"
   ]
  },
  {
   "cell_type": "code",
   "execution_count": 20,
   "metadata": {},
   "outputs": [
    {
     "name": "stdout",
     "output_type": "stream",
     "text": [
      "['lying', 'insinuation', 'emphatic', 'precarious', 'exorbitant', 'victorious', 'backbiting', 'blatant', 'profusion', 'ambitious']\n"
     ]
    }
   ],
   "source": [
    "#Let us create 10 test words in random from a list called keys\n",
    "wordTest = []\n",
    "for i in range(10):\n",
    "    n =random.randint(0,6088)\n",
    "    word = keys[n]\n",
    "    wordTest.append(word)\n",
    "print(wordTest)"
   ]
  },
  {
   "cell_type": "code",
   "execution_count": 21,
   "metadata": {},
   "outputs": [
    {
     "name": "stdout",
     "output_type": "stream",
     "text": [
      "lying is Negative\n",
      "insinuation is Negative\n",
      "emphatic is Positive\n",
      "precarious is Negative\n",
      "exorbitant is Negative\n",
      "victorious is Positive\n",
      "backbiting is Negative\n",
      "blatant is Negative\n",
      "profusion is Negative\n",
      "ambitious is Positive\n"
     ]
    }
   ],
   "source": [
    "#Test these words for Sentiment analysis\n",
    "#Training and testing accuracy is 83.14% and 81.14% respectively. Errors in classification at times can be observed\n",
    "for i in wordTest:\n",
    "    predSent(i)"
   ]
  },
  {
   "cell_type": "code",
   "execution_count": 22,
   "metadata": {},
   "outputs": [
    {
     "data": {
      "text/plain": [
       "{'alpha': 0.0001,\n",
       " 'class_weight': None,\n",
       " 'early_stopping': False,\n",
       " 'eta0': 1e-05,\n",
       " 'fit_intercept': True,\n",
       " 'max_iter': 5000,\n",
       " 'n_iter_no_change': 5,\n",
       " 'n_jobs': None,\n",
       " 'penalty': None,\n",
       " 'random_state': 0,\n",
       " 'shuffle': True,\n",
       " 'tol': 0.001,\n",
       " 'validation_fraction': 0.1,\n",
       " 'verbose': 0,\n",
       " 'warm_start': False}"
      ]
     },
     "execution_count": 22,
     "metadata": {},
     "output_type": "execute_result"
    }
   ],
   "source": [
    "clf.get_params()"
   ]
  },
  {
   "cell_type": "code",
   "execution_count": 23,
   "metadata": {},
   "outputs": [
    {
     "name": "stdout",
     "output_type": "stream",
     "text": [
      "Weights assigned by sklearn Perceptron: \n",
      " [ 3.96730651e-05 -8.07191379e-06 -2.95617471e-06  4.73685004e-05\n",
      "  5.46926753e-05 -1.00632019e-04  5.87799460e-06 -5.44371529e-05\n",
      "  3.59223327e-05  1.97268868e-05 -1.41534800e-05  4.20701387e-05\n",
      " -1.93724577e-05  3.24543110e-05 -4.37569995e-05  1.60712748e-05\n",
      "  3.23451531e-05 -9.30831011e-06  7.47684910e-06 -3.33968312e-06\n",
      "  4.16513596e-05 -1.67670408e-05  2.28292393e-05 -1.16581770e-05\n",
      "  2.68703027e-05  8.37054002e-05 -4.77026365e-05 -1.23680878e-05\n",
      " -3.27338600e-05 -7.37394884e-05  7.06319160e-05  8.04071653e-05\n",
      " -2.00167942e-05 -5.02295089e-05  9.32932850e-05 -4.97983085e-05\n",
      "  2.82048217e-06  1.07665127e-04  1.02725726e-05 -6.41890706e-05\n",
      "  1.18885936e-04  3.79091989e-06  3.62596349e-05 -3.84735352e-05\n",
      " -1.21761774e-05  6.37965855e-06 -6.19228348e-05 -2.28703414e-05\n",
      " -7.87203233e-05 -1.65105636e-05]\n"
     ]
    }
   ],
   "source": [
    "print(\"Weights assigned by sklearn Perceptron: \\n\", clf.coef_[0])"
   ]
  },
  {
   "cell_type": "code",
   "execution_count": 106,
   "metadata": {},
   "outputs": [
    {
     "name": "stdout",
     "output_type": "stream",
     "text": [
      "Total number of misclassification:  221\n"
     ]
    }
   ],
   "source": [
    "y_predict = clf.predict(X_test)\n",
    "cnt = 0\n",
    "for i in range(len(X_test)):\n",
    "    if y_predict[i] != y_test[i]:\n",
    "        cnt = cnt + 1\n",
    "mcPerc = cnt\n",
    "print(\"Total number of misclassification: \", mcPerc)"
   ]
  },
  {
   "cell_type": "code",
   "execution_count": 25,
   "metadata": {},
   "outputs": [
    {
     "name": "stdout",
     "output_type": "stream",
     "text": [
      "Confusion Matrix for the test dataset \n",
      "\n",
      "          Negative  Positive\n",
      "Negative       730       137\n",
      "Positive        84       267\n"
     ]
    }
   ],
   "source": [
    "yp = clf.predict(X_test)\n",
    "y_actual =  [int(i) for i in y_test]\n",
    "y_predict = [int(i) for i in yp]\n",
    "cm = confusion_matrix(y_actual, y_predict)\n",
    "indVal = ['Negative','Positive']\n",
    "colVal = ['Negative','Positive']\n",
    "df = pd.DataFrame(cm, index = indVal, columns=colVal)\n",
    "print(\"Confusion Matrix for the test dataset \\n\")\n",
    "print(df)"
   ]
  },
  {
   "cell_type": "code",
   "execution_count": 26,
   "metadata": {},
   "outputs": [
    {
     "name": "stdout",
     "output_type": "stream",
     "text": [
      "  Type of Sample  Number of Samples  Positive  Negative\n",
      "0          Total               6088    1813.0    4275.0\n",
      "1       Training               4870    1462.0    3408.0\n",
      "2           Test               1218     351.0     867.0\n"
     ]
    }
   ],
   "source": [
    "print(data)"
   ]
  },
  {
   "cell_type": "code",
   "execution_count": 37,
   "metadata": {},
   "outputs": [
    {
     "data": {
      "text/plain": [
       "Perceptron(eta0=1e-05, max_iter=5000)"
      ]
     },
     "execution_count": 37,
     "metadata": {},
     "output_type": "execute_result"
    }
   ],
   "source": [
    "#Normalise training and test data features\n",
    "X_train_scaled = preprocessing.scale(X_train)\n",
    "X_test_scaled = preprocessing.scale(X_test)\n",
    "\n",
    "#Let us build a perceptron model based on normalised data\n",
    "#Make a perceptron classifier with learning rate as eta and max number of iterations = 5000\n",
    "clfScaled = Perceptron(eta0=0.00001, max_iter=5000)\n",
    "clfScaled.fit(X_train, y_train)\n",
    "\n",
    "#Check Accuracy score of normalised model\n",
    "print(clfScaled.score(X_train_scaled,y_train)) #Training accuracy is 76.59%\n",
    "clfScaled.score(X_test_scaled,y_test) #Test accuracy is 74.96%"
   ]
  },
  {
   "cell_type": "code",
   "execution_count": 41,
   "metadata": {},
   "outputs": [
    {
     "data": {
      "text/plain": [
       "Pipeline(steps=[('standardscaler', StandardScaler()),\n",
       "                ('sgdclassifier', SGDClassifier())])"
      ]
     },
     "execution_count": 41,
     "metadata": {},
     "output_type": "execute_result"
    }
   ],
   "source": [
    "#Let us try Stochastic Gradient Classifier\n",
    "#Make a pipeline with standard scaler\n",
    "#Model shall be based on SGD classifer and shall learn for a maximum iteration of 1000 with loss stopping criterion as 1e-3 \n",
    "clfSGD = make_pipeline(StandardScaler(), SGDClassifier(max_iter=1000, tol=1e-3))\n",
    "clfSGD.fit(X_train, y_train)"
   ]
  },
  {
   "cell_type": "code",
   "execution_count": 152,
   "metadata": {},
   "outputs": [],
   "source": [
    "#Training and test accuracy of SGD classifier is more than the naive Perceptron Classifier\n",
    "\n",
    "trgAccSGD = (clfSGD.score(X_train, y_train))*100#Training accuracy is 87.23\n",
    "testAccSGD = (clfSGD.score(X_test,y_test))*100 #Test accuracy is 88.34"
   ]
  },
  {
   "cell_type": "code",
   "execution_count": 44,
   "metadata": {},
   "outputs": [],
   "source": [
    "# Function to check given words are positive or negative\n",
    "def predSentSGD(word):\n",
    "    senti = emb_dict[word]\n",
    "    val = clfSGD.predict(senti[:-1].reshape(1,-1))\n",
    "    print(word, \"is Positive\") if val == 1 else print(word, \"is Negative\")   "
   ]
  },
  {
   "cell_type": "code",
   "execution_count": 46,
   "metadata": {},
   "outputs": [
    {
     "name": "stdout",
     "output_type": "stream",
     "text": [
      "abnormal is Negative\n",
      "support is Positive\n"
     ]
    }
   ],
   "source": [
    "#Test a word\n",
    "predSentSGD(\"abnormal\")\n",
    "predSentSGD(\"support\")"
   ]
  },
  {
   "cell_type": "code",
   "execution_count": 48,
   "metadata": {},
   "outputs": [
    {
     "name": "stdout",
     "output_type": "stream",
     "text": [
      "harmed is Negative\n",
      "beautifully is Positive\n",
      "invincibility is Negative\n",
      "cackle is Negative\n",
      "fuzzy is Positive\n",
      "demonizes is Positive\n",
      "secure is Positive\n",
      "terrible is Negative\n",
      "clouding is Negative\n",
      "uglier is Negative\n"
     ]
    }
   ],
   "source": [
    "#Let us create 10 test words in random from a list called keys\n",
    "wordTest = []\n",
    "for i in range(10):\n",
    "    n =random.randint(0,6088)\n",
    "    word = keys[n]\n",
    "    wordTest.append(word)\n",
    "\n",
    "#Test these words for Sentiment analysis\n",
    "#Training and testing accuracy is 87.23% and 88.34% respectively. Errors in classification at times can be observed\n",
    "for i in wordTest:\n",
    "    predSentSGD(i)"
   ]
  },
  {
   "cell_type": "code",
   "execution_count": 90,
   "metadata": {},
   "outputs": [
    {
     "name": "stdout",
     "output_type": "stream",
     "text": [
      "Total number of misclassification:  142\n"
     ]
    }
   ],
   "source": [
    "#Mis classification error has reduced significantly from 221 to 142\n",
    "\n",
    "y_predSGD = clfSGD.predict(X_test)\n",
    "cnt = 0\n",
    "for i in range(len(X_test)):\n",
    "    if y_predSGD[i] != y_test[i]:\n",
    "        cnt = cnt + 1\n",
    "mcSGD = cnt\n",
    "print(\"Total number of misclassification: \", mcSGD)"
   ]
  },
  {
   "cell_type": "code",
   "execution_count": 50,
   "metadata": {},
   "outputs": [
    {
     "name": "stdout",
     "output_type": "stream",
     "text": [
      "Confusion Matrix for the test dataset \n",
      "\n",
      "          Negative  Positive\n",
      "Negative       829        38\n",
      "Positive       104       247\n"
     ]
    }
   ],
   "source": [
    "ypSGD = clfSGD.predict(X_test)\n",
    "y_actual =  [int(i) for i in y_test]\n",
    "y_predSGD = [int(i) for i in ypSGD]\n",
    "cmSGD = confusion_matrix(y_actual, y_predSGD)\n",
    "indVal = ['Negative','Positive']\n",
    "colVal = ['Negative','Positive']\n",
    "dfSGD = pd.DataFrame(cmSGD, index = indVal, columns=colVal)\n",
    "print(\"Confusion Matrix for the test dataset \\n\")\n",
    "print(dfSGD)"
   ]
  },
  {
   "cell_type": "code",
   "execution_count": 51,
   "metadata": {},
   "outputs": [
    {
     "data": {
      "text/plain": [
       "{'memory': None,\n",
       " 'steps': [('standardscaler', StandardScaler()),\n",
       "  ('sgdclassifier', SGDClassifier())],\n",
       " 'verbose': False,\n",
       " 'standardscaler': StandardScaler(),\n",
       " 'sgdclassifier': SGDClassifier(),\n",
       " 'standardscaler__copy': True,\n",
       " 'standardscaler__with_mean': True,\n",
       " 'standardscaler__with_std': True,\n",
       " 'sgdclassifier__alpha': 0.0001,\n",
       " 'sgdclassifier__average': False,\n",
       " 'sgdclassifier__class_weight': None,\n",
       " 'sgdclassifier__early_stopping': False,\n",
       " 'sgdclassifier__epsilon': 0.1,\n",
       " 'sgdclassifier__eta0': 0.0,\n",
       " 'sgdclassifier__fit_intercept': True,\n",
       " 'sgdclassifier__l1_ratio': 0.15,\n",
       " 'sgdclassifier__learning_rate': 'optimal',\n",
       " 'sgdclassifier__loss': 'hinge',\n",
       " 'sgdclassifier__max_iter': 1000,\n",
       " 'sgdclassifier__n_iter_no_change': 5,\n",
       " 'sgdclassifier__n_jobs': None,\n",
       " 'sgdclassifier__penalty': 'l2',\n",
       " 'sgdclassifier__power_t': 0.5,\n",
       " 'sgdclassifier__random_state': None,\n",
       " 'sgdclassifier__shuffle': True,\n",
       " 'sgdclassifier__tol': 0.001,\n",
       " 'sgdclassifier__validation_fraction': 0.1,\n",
       " 'sgdclassifier__verbose': 0,\n",
       " 'sgdclassifier__warm_start': False}"
      ]
     },
     "execution_count": 51,
     "metadata": {},
     "output_type": "execute_result"
    }
   ],
   "source": [
    "#Learning rate alpha is 0.0001 and number of iterations is 1000\n",
    "clfSGD.get_params()"
   ]
  },
  {
   "cell_type": "code",
   "execution_count": 55,
   "metadata": {},
   "outputs": [
    {
     "data": {
      "text/plain": [
       "[('standardscaler', StandardScaler()), ('sgdclassifier', SGDClassifier())]"
      ]
     },
     "execution_count": 55,
     "metadata": {},
     "output_type": "execute_result"
    }
   ],
   "source": [
    "clfSGD.steps"
   ]
  },
  {
   "cell_type": "code",
   "execution_count": 161,
   "metadata": {},
   "outputs": [
    {
     "data": {
      "text/plain": [
       "MLPClassifier(alpha=1e-05, hidden_layer_sizes=128, max_iter=5000,\n",
       "              random_state=1, solver='lbfgs')"
      ]
     },
     "execution_count": 161,
     "metadata": {},
     "output_type": "execute_result"
    }
   ],
   "source": [
    "#Let us develop a model based on multi layer perceptron (MLP)\n",
    "#Input layer 50 dim vector, one hidden layer with 128 units and output layer with 2 units\n",
    "#Model will be trained for 5000 epochs with learning rate of 0.00001 and lbfgs solver\n",
    "from sklearn.neural_network import MLPClassifier\n",
    "\n",
    "clfMLP = MLPClassifier(solver='lbfgs', alpha=1e-5, hidden_layer_sizes=(128), random_state=1, max_iter=5000)\n",
    "clfMLP.fit(X_train,y_train)"
   ]
  },
  {
   "cell_type": "code",
   "execution_count": 170,
   "metadata": {},
   "outputs": [],
   "source": [
    "#Training accuracy is 100%\n",
    "#However test accuracy of MLP classifier is more than the Perceptron and SGD Classifier\n",
    "\n",
    "trgAccMLP = (clfMLP.score(X_train, y_train))*100#Training accuracy is 100\n",
    "testAccMLP = (clfMLP.score(X_test,y_test))*100 #Test accuracy is 87.03"
   ]
  },
  {
   "cell_type": "code",
   "execution_count": 166,
   "metadata": {},
   "outputs": [],
   "source": [
    "# Function to check given words are positive or negative\n",
    "def predSentMLP(word):\n",
    "    senti = emb_dict[word]\n",
    "    val = clfMLP.predict(senti[:-1].reshape(1,-1))\n",
    "    print(word, \"is Positive\") if val == 1 else print(word, \"is Negative\")   "
   ]
  },
  {
   "cell_type": "code",
   "execution_count": 167,
   "metadata": {},
   "outputs": [
    {
     "name": "stdout",
     "output_type": "stream",
     "text": [
      "genuine is Positive\n",
      "biased is Negative\n",
      "congratulatory is Positive\n",
      "beckon is Positive\n",
      "boastful is Negative\n",
      "blab is Negative\n",
      "smoke is Negative\n",
      "problems is Negative\n",
      "leech is Negative\n",
      "disordered is Negative\n"
     ]
    }
   ],
   "source": [
    "#Let us create 10 test words in random from a list called keys\n",
    "wordTest = []\n",
    "for i in range(10):\n",
    "    n =random.randint(0,6088)\n",
    "    word = keys[n]\n",
    "    wordTest.append(word)\n",
    "\n",
    "#Test these words for Sentiment analysis\n",
    "#Training and testing accuracy is 87.23% and 88.34% respectively. Errors in classification at times can be observed\n",
    "for i in wordTest:\n",
    "    predSentMLP(i)"
   ]
  },
  {
   "cell_type": "code",
   "execution_count": 168,
   "metadata": {},
   "outputs": [
    {
     "name": "stdout",
     "output_type": "stream",
     "text": [
      "Total number of misclassification in MLP classifier:  158\n"
     ]
    }
   ],
   "source": [
    "#Mis classification error is 158\n",
    "\n",
    "y_predMLP = clfMLP.predict(X_test)\n",
    "cnt = 0\n",
    "for i in range(len(X_test)):\n",
    "    if y_predMLP[i] != y_test[i]:\n",
    "        cnt = cnt + 1\n",
    "mcMLP = cnt\n",
    "print(\"Total number of misclassification in MLP classifier: \", mcMLP)"
   ]
  },
  {
   "cell_type": "code",
   "execution_count": 87,
   "metadata": {},
   "outputs": [
    {
     "name": "stdout",
     "output_type": "stream",
     "text": [
      "Confusion Matrix for the test dataset \n",
      "\n",
      "          Negative  Positive\n",
      "Negative       800        67\n",
      "Positive        69       282\n"
     ]
    }
   ],
   "source": [
    "ypMLP = clfMLP.predict(X_test)\n",
    "y_actual =  [int(i) for i in y_test]\n",
    "y_predMLP = [int(i) for i in ypMLP]\n",
    "cmMLP = confusion_matrix(y_actual, y_predMLP)\n",
    "indVal = ['Negative','Positive']\n",
    "colVal = ['Negative','Positive']\n",
    "dfMLP = pd.DataFrame(cmMLP, index = indVal, columns=colVal)\n",
    "print(\"Confusion Matrix for the test dataset \\n\")\n",
    "print(dfMLP)"
   ]
  },
  {
   "cell_type": "code",
   "execution_count": 70,
   "metadata": {},
   "outputs": [
    {
     "data": {
      "text/plain": [
       "[(50, 5), (5, 2), (2, 1)]"
      ]
     },
     "execution_count": 70,
     "metadata": {},
     "output_type": "execute_result"
    }
   ],
   "source": [
    "#50 dimension word embedding as input layer\n",
    "#First hidden layer has 5 units\n",
    "#Second hidden layer has 2 units\n",
    "#Output layer one unit 1 for Positive 0 for negative\n",
    "[coef.shape for coef in clfMLP.coefs_]"
   ]
  },
  {
   "cell_type": "code",
   "execution_count": 71,
   "metadata": {},
   "outputs": [
    {
     "data": {
      "text/plain": [
       "MLPClassifier(alpha=1e-05, hidden_layer_sizes=(128, 128), max_iter=5000,\n",
       "              random_state=1, solver='lbfgs')"
      ]
     },
     "execution_count": 71,
     "metadata": {},
     "output_type": "execute_result"
    }
   ],
   "source": [
    "#Let us change the number of hidden layers to 2 and check performance\n",
    "\n",
    "clfMLP2 = MLPClassifier(solver='lbfgs', alpha=1e-5, hidden_layer_sizes=(128, 128), random_state=1, max_iter=5000)\n",
    "clfMLP2.fit(X_train,y_train)"
   ]
  },
  {
   "cell_type": "code",
   "execution_count": 154,
   "metadata": {},
   "outputs": [],
   "source": [
    "#Training accuracy of MLP classifier with two hidden layers with 128 units each is 100%\n",
    "#However test accuracy is around 87.93%. Marginal improvement\n",
    "\n",
    "trgAccMLP2 = (clfMLP2.score(X_train, y_train))*100#Training accuracy is 100%\n",
    "testAccMLP2 = (clfMLP2.score(X_test,y_test))*100 #Test accuracy is 87.93"
   ]
  },
  {
   "cell_type": "code",
   "execution_count": 75,
   "metadata": {},
   "outputs": [],
   "source": [
    "# Function to check given words are positive or negative\n",
    "def predSentMLP2(word):\n",
    "    senti = emb_dict[word]\n",
    "    val = clfMLP2.predict(senti[:-1].reshape(1,-1))\n",
    "    print(word, \"is Positive\") if val == 1 else print(word, \"is Negative\")   "
   ]
  },
  {
   "cell_type": "code",
   "execution_count": 97,
   "metadata": {},
   "outputs": [
    {
     "name": "stdout",
     "output_type": "stream",
     "text": [
      "Total number of misclassification in MLP classifier with two hidden layers of 128 units each:  147\n"
     ]
    }
   ],
   "source": [
    "#Mis classification error has decreased to 147 from 158 (Single Layer) but higher compared to SGD(142)\n",
    "y_predMLP2 = clfMLP2.predict(X_test)\n",
    "cnt = 0\n",
    "for i in range(len(X_test)):\n",
    "    if y_predMLP2[i] != y_test[i]:\n",
    "        cnt = cnt + 1\n",
    "mcMLP2 = cnt\n",
    "print(\"Total number of misclassification in MLP classifier with two hidden layers of 128 units each: \", mcMLP2)"
   ]
  },
  {
   "cell_type": "code",
   "execution_count": 78,
   "metadata": {},
   "outputs": [
    {
     "data": {
      "text/plain": [
       "MLPClassifier(alpha=1e-05, hidden_layer_sizes=(256, 128, 128), max_iter=5000,\n",
       "              random_state=1, solver='lbfgs')"
      ]
     },
     "execution_count": 78,
     "metadata": {},
     "output_type": "execute_result"
    }
   ],
   "source": [
    "#Let us change the number of units in first layer and add third layer with 128 units and relu activation\n",
    "clfMLP3 = MLPClassifier(solver='lbfgs', alpha=1e-5, hidden_layer_sizes=(256,128, 128), activation='relu',random_state=1, max_iter=5000)\n",
    "clfMLP3.fit(X_train,y_train)"
   ]
  },
  {
   "cell_type": "code",
   "execution_count": 155,
   "metadata": {},
   "outputs": [],
   "source": [
    "#Training and test accuracy of MLP classifier is more than the naive Perceptron and SGD Classifier\n",
    "\n",
    "trgAccMLP3 = (clfMLP3.score(X_train, y_train))*100#Training accuracy is 91.82\n",
    "testAccMLP3 = (clfMLP3.score(X_test,y_test))*100 #Test accuracy is 88.26"
   ]
  },
  {
   "cell_type": "code",
   "execution_count": 81,
   "metadata": {},
   "outputs": [
    {
     "data": {
      "text/plain": [
       "SVC()"
      ]
     },
     "execution_count": 81,
     "metadata": {},
     "output_type": "execute_result"
    }
   ],
   "source": [
    "#SVM classifer\n",
    "from sklearn import svm\n",
    "\n",
    "clfSVM = svm.SVC()\n",
    "clfSVM.fit(X_train,y_train)"
   ]
  },
  {
   "cell_type": "code",
   "execution_count": 156,
   "metadata": {},
   "outputs": [],
   "source": [
    "#Training and test accuracy of SVM scores the highest \n",
    "\n",
    "trgAccSVM = (clfSVM.score(X_train, y_train))*100#Training accuracy is 93.78%\n",
    "testAccSVM = (clfSVM.score(X_test,y_test))*100 #Test accuracy is 89.66%"
   ]
  },
  {
   "cell_type": "code",
   "execution_count": 84,
   "metadata": {},
   "outputs": [],
   "source": [
    "# Function to check given words are positive or negative\n",
    "def predSentSVM(word):\n",
    "    senti = emb_dict[word]\n",
    "    val = clfSVM.predict(senti[:-1].reshape(1,-1))\n",
    "    print(word, \"is Positive\") if val == 1 else print(word, \"is Negative\")   "
   ]
  },
  {
   "cell_type": "code",
   "execution_count": 96,
   "metadata": {},
   "outputs": [
    {
     "name": "stdout",
     "output_type": "stream",
     "text": [
      "Total number of misclassification in SVM classifer:  126\n"
     ]
    }
   ],
   "source": [
    "#Mis classification error of SVM is the lowest at 126\n",
    "y_predSVM = clfSVM.predict(X_test)\n",
    "cnt = 0\n",
    "for i in range(len(X_test)):\n",
    "    if y_predSVM[i] != y_test[i]:\n",
    "        cnt = cnt + 1\n",
    "mcSVM = cnt\n",
    "print(\"Total number of misclassification in SVM classifer: \", mcSVM)"
   ]
  },
  {
   "cell_type": "code",
   "execution_count": 86,
   "metadata": {},
   "outputs": [
    {
     "name": "stdout",
     "output_type": "stream",
     "text": [
      "Confusion Matrix for the test dataset \n",
      "\n",
      "          Negative  Positive\n",
      "Negative       827        40\n",
      "Positive        86       265\n"
     ]
    }
   ],
   "source": [
    "ypSVM = clfSVM.predict(X_test)\n",
    "y_actual =  [int(i) for i in y_test]\n",
    "y_predSVM = [int(i) for i in ypSVM]\n",
    "cmSVM = confusion_matrix(y_actual, y_predSVM)\n",
    "indVal = ['Negative','Positive']\n",
    "colVal = ['Negative','Positive']\n",
    "dfSVM = pd.DataFrame(cmSVM, index = indVal, columns=colVal)\n",
    "print(\"Confusion Matrix for the test dataset \\n\")\n",
    "print(dfSVM)"
   ]
  },
  {
   "cell_type": "code",
   "execution_count": 169,
   "metadata": {},
   "outputs": [
    {
     "data": {
      "image/png": "[encoded data removed]",
      "text/plain": [
       "<Figure size 1440x720 with 3 Axes>"
      ]
     },
     "metadata": {
      "needs_background": "light"
     },
     "output_type": "display_data"
    }
   ],
   "source": [
    "#Compare the training, test accuracy and misclassification errors in the models\n",
    "perc = ['Perc', trgAccPerc, testAccPerc, mcPerc]\n",
    "SGD = ['SGD', trgAccSGD, testAccSGD, mcSGD]\n",
    "MLPSingle = ['Single Layer', trgAccMLP, testAccMLP, mcMLP]\n",
    "MLPTwo = ['Two Layers', trgAccMLP2, testAccMLP2, mcMLP2]\n",
    "SVM = ['SVM', trgAccSVM, testAccSVM, mcSVM]\n",
    "\n",
    "mdl = ['Model Name','Trg Acc', 'Test Acc', 'Misclassification Errors']\n",
    "           \n",
    "listModels = [perc, SGD, MLPSingle, MLPTwo, SVM]\n",
    "\n",
    "modelsDF = pd.DataFrame(listModels, columns = mdl)\n",
    "\n",
    "modelsDF\n",
    "\n",
    "\n",
    "fig, (ax1, ax2, ax3) =plt.subplots(1,3, figsize = (20,10))\n",
    "ax1.bar(modelsDF['Model Name'] , modelsDF['Trg Acc'], color='g')\n",
    "ax1.set_ylabel(\"Accuracy\")\n",
    "ax1.set_xlabel(\"Model Name\")\n",
    "ax1.set_title(\"Training Accuracy\")\n",
    "ax2.bar(modelsDF['Model Name'] , modelsDF['Test Acc'],color='m')\n",
    "ax2.set_title(\"Test Accuracy\")\n",
    "ax2.set_xlabel(\"Model Name\")\n",
    "ax3.plot(modelsDF['Model Name'], modelsDF['Misclassification Errors'])\n",
    "plt.xlabel(\"Model Name\")\n",
    "plt.ylabel(\"Number of Errors\")\n",
    "plt.title(\"Misclassification Errors\")\n",
    "plt.show()\n",
    "\n",
    "#Highest training accuracy of 100% is MLP with either one or two Layers. Each layer has 128 units. \n",
    "#However its test accuracy is lower and hence misclassification error is higher compared to SVM \n",
    "#SVM has comparable training accuracy but slightly better test accuracy and lowest misclassification error.\n",
    "#Best model is SVM as it has lowest misclassification error with highest test accuracy."
   ]
  },
  {
   "cell_type": "code",
   "execution_count": null,
   "metadata": {},
   "outputs": [],
   "source": []
  }
 ],
 "metadata": {
  "kernelspec": {
   "display_name": "Python 3",
   "language": "python",
   "name": "python3"
  },
  "language_info": {
   "codemirror_mode": {
    "name": "ipython",
    "version": 3
   },
   "file_extension": ".py",
   "mimetype": "text/x-python",
   "name": "python",
   "nbconvert_exporter": "python",
   "pygments_lexer": "ipython3",
   "version": "3.8.3"
  }
 },
 "nbformat": 4,
 "nbformat_minor": 4
}
