{
 "cells": [
  {
   "cell_type": "code",
   "execution_count": 17,
   "metadata": {},
   "outputs": [],
   "source": [
    "import nltk\n",
    "from nltk import bigrams\n",
    "from nltk import trigrams\n",
    "from nltk import ngrams\n",
    "from nltk.util import pad_sequence\n",
    "from nltk import FreqDist"
   ]
  },
  {
   "cell_type": "code",
   "execution_count": 18,
   "metadata": {},
   "outputs": [],
   "source": [
    "tonTwister = ['Peter piper picked a peck of pickled peppers', 'A peck of pickled peppers Peter Piper picked',\n",
    "              'If Peter Piper picked a peck of pickled peppers', \"Where's the peck of pickled peppers Peter Piper picked?\" ]"
   ]
  },
  {
   "cell_type": "code",
   "execution_count": 19,
   "metadata": {},
   "outputs": [
    {
     "name": "stdout",
     "output_type": "stream",
     "text": [
      "<class 'list'>\n",
      "Total sentences in the list:  4\n",
      "First sentence is:  Peter piper picked a peck of pickled peppers\n",
      "Data type of each sentence:  <class 'str'>\n"
     ]
    }
   ],
   "source": [
    "print(type(tonTwister))\n",
    "print(\"Total sentences in the list: \", len(tonTwister))\n",
    "print(\"First sentence is: \", tonTwister[0])\n",
    "print(\"Data type of each sentence: \", type(tonTwister[0]))"
   ]
  },
  {
   "cell_type": "code",
   "execution_count": 20,
   "metadata": {},
   "outputs": [
    {
     "name": "stdout",
     "output_type": "stream",
     "text": [
      "['<s>', 'Peter', 'piper', 'picked', 'a', 'peck', 'of', 'pickled', 'peppers', '</s>', '<s>', 'A', 'peck', 'of', 'pickled', 'peppers', 'Peter', 'Piper', 'picked', '</s>', '<s>', 'If', 'Peter', 'Piper', 'picked', 'a', 'peck', 'of', 'pickled', 'peppers', '</s>', '<s>', \"Where's\", 'the', 'peck', 'of', 'pickled', 'peppers', 'Peter', 'Piper', 'picked?', '</s>']\n"
     ]
    }
   ],
   "source": [
    "words = []\n",
    "\n",
    "for i in range(0,len(tonTwister)):\n",
    "\n",
    "    #Split the strings based on blankspace\n",
    "    sen = tonTwister[i].split(' ')\n",
    "    \n",
    "    #Pad at either end of the sentence with markers\n",
    "    sent = list(pad_sequence(sen, pad_left=True, left_pad_symbol=\"<s>\", pad_right=True, right_pad_symbol=\"</s>\", n=2))\n",
    "    \n",
    "    #Extend the list by adding\n",
    "    words.extend(sent)\n",
    "\n",
    "print(words)"
   ]
  },
  {
   "cell_type": "code",
   "execution_count": 21,
   "metadata": {},
   "outputs": [
    {
     "name": "stdout",
     "output_type": "stream",
     "text": [
      "{'<s>': 0.09523809523809523, 'Peter': 0.09523809523809523, 'peck': 0.09523809523809523, 'of': 0.09523809523809523, 'pickled': 0.09523809523809523, 'peppers': 0.09523809523809523, '</s>': 0.09523809523809523, 'picked': 0.07142857142857142, 'Piper': 0.07142857142857142, 'a': 0.047619047619047616, 'piper': 0.023809523809523808, 'A': 0.023809523809523808, 'If': 0.023809523809523808, \"Where's\": 0.023809523809523808, 'the': 0.023809523809523808, 'picked?': 0.023809523809523808}\n"
     ]
    }
   ],
   "source": [
    "#Unigram probabilities\n",
    "totUgm = len(words) #Total number of words in the corpus\n",
    "\n",
    "probUgm = {} #Initialise a list\n",
    "\n",
    "fDistUgmTonTwister = nltk.FreqDist(words) #Obtain Frequency Distribution of words using nltk\n",
    "\n",
    "for word,frequency in fDistUgmTonTwister.most_common():\n",
    "    probUgm[word] = frequency/totUgm\n",
    "\n",
    "print(probUgm) #Prints probability of each unigram"
   ]
  },
  {
   "cell_type": "code",
   "execution_count": 22,
   "metadata": {},
   "outputs": [
    {
     "name": "stdout",
     "output_type": "stream",
     "text": [
      "Unigrams:  42 Bigrams:  41 Trigrams:  40 Quadgrams:  39\n"
     ]
    }
   ],
   "source": [
    "#Unigrams, bigrams, trigrams, quadgrams\n",
    "listU = list(words)\n",
    "listB = list(bigrams(words))\n",
    "listT = list(trigrams(words))\n",
    "listQ = list(ngrams(words,4))\n",
    "\n",
    "#Get total number of unigrams, bigrams, trigrams and quadgrams\n",
    "cntU = len(listU)\n",
    "cntB = len(listB)\n",
    "cntT = len(listT)\n",
    "cntQ = len(listQ)\n",
    "print(\"Unigrams: \", cntU, \"Bigrams: \", cntB, \"Trigrams: \", cntT, \"Quadgrams: \",cntQ)"
   ]
  },
  {
   "cell_type": "code",
   "execution_count": 23,
   "metadata": {},
   "outputs": [
    {
     "name": "stdout",
     "output_type": "stream",
     "text": [
      "[('<s>', 'Peter'), ('Peter', 'piper'), ('piper', 'picked'), ('picked', 'a'), ('a', 'peck'), ('peck', 'of'), ('of', 'pickled'), ('pickled', 'peppers'), ('peppers', '</s>'), ('</s>', '<s>'), ('<s>', 'A'), ('A', 'peck'), ('peck', 'of'), ('of', 'pickled'), ('pickled', 'peppers'), ('peppers', 'Peter'), ('Peter', 'Piper'), ('Piper', 'picked'), ('picked', '</s>'), ('</s>', '<s>'), ('<s>', 'If'), ('If', 'Peter'), ('Peter', 'Piper'), ('Piper', 'picked'), ('picked', 'a'), ('a', 'peck'), ('peck', 'of'), ('of', 'pickled'), ('pickled', 'peppers'), ('peppers', '</s>'), ('</s>', '<s>'), ('<s>', \"Where's\"), (\"Where's\", 'the'), ('the', 'peck'), ('peck', 'of'), ('of', 'pickled'), ('pickled', 'peppers'), ('peppers', 'Peter'), ('Peter', 'Piper'), ('Piper', 'picked?'), ('picked?', '</s>')]\n"
     ]
    }
   ],
   "source": [
    "#List of bigrams\n",
    "print(listB)"
   ]
  },
  {
   "cell_type": "code",
   "execution_count": 24,
   "metadata": {},
   "outputs": [
    {
     "name": "stdout",
     "output_type": "stream",
     "text": [
      "[('<s>', 'Peter', 'piper'), ('Peter', 'piper', 'picked'), ('piper', 'picked', 'a'), ('picked', 'a', 'peck'), ('a', 'peck', 'of'), ('peck', 'of', 'pickled'), ('of', 'pickled', 'peppers'), ('pickled', 'peppers', '</s>'), ('peppers', '</s>', '<s>'), ('</s>', '<s>', 'A'), ('<s>', 'A', 'peck'), ('A', 'peck', 'of'), ('peck', 'of', 'pickled'), ('of', 'pickled', 'peppers'), ('pickled', 'peppers', 'Peter'), ('peppers', 'Peter', 'Piper'), ('Peter', 'Piper', 'picked'), ('Piper', 'picked', '</s>'), ('picked', '</s>', '<s>'), ('</s>', '<s>', 'If'), ('<s>', 'If', 'Peter'), ('If', 'Peter', 'Piper'), ('Peter', 'Piper', 'picked'), ('Piper', 'picked', 'a'), ('picked', 'a', 'peck'), ('a', 'peck', 'of'), ('peck', 'of', 'pickled'), ('of', 'pickled', 'peppers'), ('pickled', 'peppers', '</s>'), ('peppers', '</s>', '<s>'), ('</s>', '<s>', \"Where's\"), ('<s>', \"Where's\", 'the'), (\"Where's\", 'the', 'peck'), ('the', 'peck', 'of'), ('peck', 'of', 'pickled'), ('of', 'pickled', 'peppers'), ('pickled', 'peppers', 'Peter'), ('peppers', 'Peter', 'Piper'), ('Peter', 'Piper', 'picked?'), ('Piper', 'picked?', '</s>')]\n"
     ]
    }
   ],
   "source": [
    "#List of trigrams\n",
    "print(listT)"
   ]
  },
  {
   "cell_type": "code",
   "execution_count": 25,
   "metadata": {},
   "outputs": [
    {
     "name": "stdout",
     "output_type": "stream",
     "text": [
      "[('<s>', 'Peter', 'piper', 'picked'), ('Peter', 'piper', 'picked', 'a'), ('piper', 'picked', 'a', 'peck'), ('picked', 'a', 'peck', 'of'), ('a', 'peck', 'of', 'pickled'), ('peck', 'of', 'pickled', 'peppers'), ('of', 'pickled', 'peppers', '</s>'), ('pickled', 'peppers', '</s>', '<s>'), ('peppers', '</s>', '<s>', 'A'), ('</s>', '<s>', 'A', 'peck'), ('<s>', 'A', 'peck', 'of'), ('A', 'peck', 'of', 'pickled'), ('peck', 'of', 'pickled', 'peppers'), ('of', 'pickled', 'peppers', 'Peter'), ('pickled', 'peppers', 'Peter', 'Piper'), ('peppers', 'Peter', 'Piper', 'picked'), ('Peter', 'Piper', 'picked', '</s>'), ('Piper', 'picked', '</s>', '<s>'), ('picked', '</s>', '<s>', 'If'), ('</s>', '<s>', 'If', 'Peter'), ('<s>', 'If', 'Peter', 'Piper'), ('If', 'Peter', 'Piper', 'picked'), ('Peter', 'Piper', 'picked', 'a'), ('Piper', 'picked', 'a', 'peck'), ('picked', 'a', 'peck', 'of'), ('a', 'peck', 'of', 'pickled'), ('peck', 'of', 'pickled', 'peppers'), ('of', 'pickled', 'peppers', '</s>'), ('pickled', 'peppers', '</s>', '<s>'), ('peppers', '</s>', '<s>', \"Where's\"), ('</s>', '<s>', \"Where's\", 'the'), ('<s>', \"Where's\", 'the', 'peck'), (\"Where's\", 'the', 'peck', 'of'), ('the', 'peck', 'of', 'pickled'), ('peck', 'of', 'pickled', 'peppers'), ('of', 'pickled', 'peppers', 'Peter'), ('pickled', 'peppers', 'Peter', 'Piper'), ('peppers', 'Peter', 'Piper', 'picked?'), ('Peter', 'Piper', 'picked?', '</s>')]\n"
     ]
    }
   ],
   "source": [
    "#List of quadgrams\n",
    "print(listQ)"
   ]
  },
  {
   "cell_type": "code",
   "execution_count": 26,
   "metadata": {},
   "outputs": [],
   "source": [
    "#Frequency distribution of unigrams, bigrams, trigrams and quadgrams\n",
    "fDist1 = nltk.FreqDist(listU)\n",
    "fDist2 = nltk.FreqDist(listB)\n",
    "fDist3 = nltk.FreqDist(listT)\n",
    "fDist4 = nltk.FreqDist(listQ)"
   ]
  },
  {
   "cell_type": "code",
   "execution_count": 27,
   "metadata": {},
   "outputs": [],
   "source": [
    "#Function to calculate Bigram probabilities\n",
    "def bgmProb(w1,w2):\n",
    "    totCnt = 0\n",
    "    bgmCnt = 0\n",
    "    for key, value in fDist2.items():\n",
    "        keylist = list(key)\n",
    "        if keylist[0] == w1:\n",
    "            totCnt = totCnt + value\n",
    "            print(keylist, value)\n",
    "            if keylist[1] == w2:\n",
    "                bgmCnt = bgmCnt + value\n",
    "    print(\"Probability of\", w2, \"|\", w1)\n",
    "    return bgmCnt/totCnt"
   ]
  },
  {
   "cell_type": "code",
   "execution_count": 28,
   "metadata": {},
   "outputs": [
    {
     "name": "stdout",
     "output_type": "stream",
     "text": [
      "['Peter', 'piper'] 1\n",
      "['Peter', 'Piper'] 3\n",
      "Probability of Piper | Peter\n"
     ]
    },
    {
     "data": {
      "text/plain": [
       "0.75"
      ]
     },
     "execution_count": 28,
     "metadata": {},
     "output_type": "execute_result"
    }
   ],
   "source": [
    "bgmProb('Peter','Piper')"
   ]
  },
  {
   "cell_type": "code",
   "execution_count": 29,
   "metadata": {},
   "outputs": [
    {
     "name": "stdout",
     "output_type": "stream",
     "text": [
      "['Piper', 'picked'] 2\n",
      "['Piper', 'picked?'] 1\n",
      "Probability of picked | Piper\n"
     ]
    },
    {
     "data": {
      "text/plain": [
       "0.6666666666666666"
      ]
     },
     "execution_count": 29,
     "metadata": {},
     "output_type": "execute_result"
    }
   ],
   "source": [
    "bgmProb('Piper','picked')"
   ]
  },
  {
   "cell_type": "code",
   "execution_count": 30,
   "metadata": {},
   "outputs": [],
   "source": [
    "#Function to calculate Trigram probabilities\n",
    "def tgmProb(w1,w2,w3):\n",
    "    totCnt = 0\n",
    "    tgmCnt = 0\n",
    "    for key, value in fDist3.items():\n",
    "        keylist = list(key)\n",
    "        if keylist[0] == w1:\n",
    "            if keylist[1] == w2:\n",
    "                totCnt = totCnt + value\n",
    "                print(keylist, value)\n",
    "                if keylist[2] == w3:\n",
    "                    tgmCnt = tgmCnt + value\n",
    "                    #print(keylist, value)\n",
    "    print(\"Probability of\", w3, \"|\", w1, w2)\n",
    "    return tgmCnt/totCnt"
   ]
  },
  {
   "cell_type": "code",
   "execution_count": 31,
   "metadata": {},
   "outputs": [
    {
     "name": "stdout",
     "output_type": "stream",
     "text": [
      "['Peter', 'piper', 'picked'] 1\n",
      "Probability of picked | Peter piper\n"
     ]
    },
    {
     "data": {
      "text/plain": [
       "1.0"
      ]
     },
     "execution_count": 31,
     "metadata": {},
     "output_type": "execute_result"
    }
   ],
   "source": [
    "tgmProb('Peter','piper','picked')"
   ]
  },
  {
   "cell_type": "code",
   "execution_count": 32,
   "metadata": {},
   "outputs": [],
   "source": [
    "#Function to calculate quadgram probabilities\n",
    "def qgmProb(w1,w2,w3,w4):\n",
    "    totCnt = 0\n",
    "    qgmCnt = 0\n",
    "    for key, value in fDist4.items():\n",
    "        keylist = list(key)\n",
    "        if keylist[0] == w1:\n",
    "            if keylist[1] == w2:\n",
    "                if keylist[2] == w3:\n",
    "                    totCnt = totCnt + value\n",
    "                    print(keylist, value)\n",
    "                    if keylist[3] == w4:\n",
    "                        qgmCnt = qgmCnt + value\n",
    "                    #print(keylist, value)\n",
    "    print(\"Probability of\", w4, \"|\", w1, w2, w3)\n",
    "    return qgmCnt/totCnt"
   ]
  },
  {
   "cell_type": "code",
   "execution_count": 33,
   "metadata": {},
   "outputs": [
    {
     "name": "stdout",
     "output_type": "stream",
     "text": [
      "['Peter', 'piper', 'picked', 'a'] 1\n",
      "Probability of a | Peter piper picked\n"
     ]
    },
    {
     "data": {
      "text/plain": [
       "1.0"
      ]
     },
     "execution_count": 33,
     "metadata": {},
     "output_type": "execute_result"
    }
   ],
   "source": [
    "qgmProb('Peter','piper','picked','a')"
   ]
  }
 ],
 "metadata": {
  "kernelspec": {
   "display_name": "Python 3",
   "language": "python",
   "name": "python3"
  },
  "language_info": {
   "codemirror_mode": {
    "name": "ipython",
    "version": 3
   },
   "file_extension": ".py",
   "mimetype": "text/x-python",
   "name": "python",
   "nbconvert_exporter": "python",
   "pygments_lexer": "ipython3",
   "version": "3.8.3"
  }
 },
 "nbformat": 4,
 "nbformat_minor": 4
}
